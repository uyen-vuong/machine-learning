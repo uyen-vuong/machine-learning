{
  "nbformat": 4,
  "nbformat_minor": 0,
  "metadata": {
    "colab": {
      "provenance": [],
      "authorship_tag": "ABX9TyPcKJwU8LwiLNIdYOCkaWCT",
      "include_colab_link": true
    },
    "kernelspec": {
      "name": "python3",
      "display_name": "Python 3"
    },
    "language_info": {
      "name": "python"
    }
  },
  "cells": [
    {
      "cell_type": "markdown",
      "metadata": {
        "id": "view-in-github",
        "colab_type": "text"
      },
      "source": [
        "<a href=\"https://colab.research.google.com/github/uyen-vuong/machine-learning/blob/main/Untitled10.ipynb\" target=\"_parent\"><img src=\"https://colab.research.google.com/assets/colab-badge.svg\" alt=\"Open In Colab\"/></a>"
      ]
    },
    {
      "cell_type": "code",
      "execution_count": 73,
      "metadata": {
        "id": "KTqYWZn91YBm"
      },
      "outputs": [],
      "source": [
        "import sklearn\n",
        "from sklearn import datasets\n",
        "import matplotlib.pyplot as plt\n",
        "from sklearn.linear_model import LogisticRegression\n",
        "from sklearn.model_selection import KFold, cross_val_score, train_test_split\n"
      ]
    },
    {
      "cell_type": "code",
      "source": [
        "data=datasets.load_digits()"
      ],
      "metadata": {
        "id": "3SHbxQQ11vhV"
      },
      "execution_count": 74,
      "outputs": []
    },
    {
      "cell_type": "code",
      "source": [
        "data.keys()"
      ],
      "metadata": {
        "colab": {
          "base_uri": "https://localhost:8080/"
        },
        "id": "OF7MDl0-11Vm",
        "outputId": "38689719-5644-4cb6-cf0e-333242d85715"
      },
      "execution_count": 75,
      "outputs": [
        {
          "output_type": "execute_result",
          "data": {
            "text/plain": [
              "dict_keys(['data', 'target', 'frame', 'feature_names', 'target_names', 'images', 'DESCR'])"
            ]
          },
          "metadata": {},
          "execution_count": 75
        }
      ]
    },
    {
      "cell_type": "code",
      "source": [
        "from scipy.sparse.linalg.eigen import test\n",
        "X=data['data']\n",
        "y=data['target']\n",
        "xtr,xte,ytr,yte=train_test_split(X,y,test_size=0.33,random_state=101)"
      ],
      "metadata": {
        "id": "UnX85FW_162M"
      },
      "execution_count": 76,
      "outputs": []
    },
    {
      "cell_type": "code",
      "source": [
        "X.shape,y.shape"
      ],
      "metadata": {
        "colab": {
          "base_uri": "https://localhost:8080/"
        },
        "id": "723Pbnft2EoO",
        "outputId": "550c096f-e8d1-47af-f90b-1881adc0424b"
      },
      "execution_count": 77,
      "outputs": [
        {
          "output_type": "execute_result",
          "data": {
            "text/plain": [
              "((1797, 64), (1797,))"
            ]
          },
          "metadata": {},
          "execution_count": 77
        }
      ]
    },
    {
      "cell_type": "code",
      "source": [
        "y"
      ],
      "metadata": {
        "colab": {
          "base_uri": "https://localhost:8080/"
        },
        "id": "LhyrN92o2IaE",
        "outputId": "4108d20c-2a60-4610-8658-c4388b236a4c"
      },
      "execution_count": 78,
      "outputs": [
        {
          "output_type": "execute_result",
          "data": {
            "text/plain": [
              "array([0, 1, 2, ..., 8, 9, 8])"
            ]
          },
          "metadata": {},
          "execution_count": 78
        }
      ]
    },
    {
      "cell_type": "code",
      "source": [
        "def draw_sample_label(X,y):\n",
        "  X=X[:20]\n",
        "  y=y[:20]\n",
        "  plt.subplots(4,5)\n",
        "  for i in range(len(X)):\n",
        "    plt.subplot(4,5,i+1)\n",
        "    plt.imshow(X[i].reshape((8,8)))\n",
        "    if ypred is None:\n",
        "      plt.title(f'y={y[i]}')\n",
        "    else:\n",
        "      plt.title(f'y={y[i]} yp={ypred[i]}')\n",
        "    \n",
        "draw_sample_label(X,y)"
      ],
      "metadata": {
        "colab": {
          "base_uri": "https://localhost:8080/",
          "height": 281
        },
        "id": "68pTac9c2KuM",
        "outputId": "0580ceb5-d9dd-41b3-e575-e32d01383e3f"
      },
      "execution_count": 79,
      "outputs": [
        {
          "output_type": "display_data",
          "data": {
            "text/plain": [
              "<Figure size 432x288 with 20 Axes>"
            ],
            "image/png": "[encoded data removed]"
          },
          "metadata": {
            "needs_background": "light"
          }
        }
      ]
    },
    {
      "cell_type": "code",
      "source": [
        "clf=LogisticRegression(max_iter=10000)\n",
        "clf.fit(xtr,ytr)"
      ],
      "metadata": {
        "colab": {
          "base_uri": "https://localhost:8080/"
        },
        "id": "WsCF89Ns5ADo",
        "outputId": "554b36a9-ace1-4398-e53f-f9cc4bc70091"
      },
      "execution_count": 80,
      "outputs": [
        {
          "output_type": "execute_result",
          "data": {
            "text/plain": [
              "LogisticRegression(max_iter=10000)"
            ]
          },
          "metadata": {},
          "execution_count": 80
        }
      ]
    },
    {
      "cell_type": "code",
      "source": [
        "ypred=clf.predict(xte)"
      ],
      "metadata": {
        "id": "63CDaNkP5QAn"
      },
      "execution_count": 81,
      "outputs": []
    },
    {
      "cell_type": "code",
      "source": [
        "ypred"
      ],
      "metadata": {
        "colab": {
          "base_uri": "https://localhost:8080/"
        },
        "id": "v9WT1Z3-5WvL",
        "outputId": "8461103e-e459-4dc3-e450-d857af5f5ee4"
      },
      "execution_count": 82,
      "outputs": [
        {
          "output_type": "execute_result",
          "data": {
            "text/plain": [
              "array([7, 4, 7, 9, 1, 7, 5, 7, 1, 0, 1, 7, 1, 6, 6, 8, 4, 9, 7, 0, 7, 7,\n",
              "       6, 0, 2, 3, 5, 0, 0, 2, 4, 7, 0, 4, 3, 7, 1, 3, 6, 4, 8, 8, 9, 9,\n",
              "       7, 9, 8, 6, 4, 3, 1, 3, 5, 8, 1, 1, 5, 5, 4, 1, 7, 2, 4, 4, 5, 8,\n",
              "       0, 8, 1, 0, 7, 6, 7, 8, 6, 5, 1, 2, 0, 6, 1, 0, 1, 9, 1, 2, 6, 8,\n",
              "       3, 4, 6, 4, 1, 3, 2, 5, 7, 1, 5, 0, 0, 6, 5, 0, 9, 8, 1, 9, 3, 2,\n",
              "       7, 1, 8, 4, 8, 2, 4, 1, 2, 1, 3, 8, 9, 3, 1, 6, 9, 8, 3, 2, 7, 1,\n",
              "       8, 9, 5, 2, 6, 5, 0, 3, 4, 0, 5, 0, 1, 1, 7, 4, 8, 6, 1, 3, 9, 1,\n",
              "       4, 9, 5, 1, 7, 6, 7, 3, 0, 7, 5, 4, 9, 9, 8, 9, 6, 1, 0, 7, 7, 4,\n",
              "       8, 4, 4, 7, 5, 9, 7, 9, 8, 7, 0, 0, 7, 4, 7, 1, 0, 4, 9, 4, 5, 7,\n",
              "       2, 2, 5, 2, 3, 3, 5, 3, 9, 8, 4, 3, 4, 5, 2, 1, 6, 9, 9, 5, 7, 5,\n",
              "       5, 7, 6, 2, 4, 6, 7, 5, 1, 9, 2, 2, 9, 6, 5, 2, 5, 3, 6, 8, 8, 5,\n",
              "       5, 1, 9, 6, 0, 5, 1, 3, 8, 8, 4, 4, 4, 0, 5, 0, 4, 7, 8, 2, 2, 2,\n",
              "       5, 9, 3, 9, 3, 5, 6, 4, 3, 2, 6, 1, 1, 7, 5, 2, 8, 1, 2, 1, 8, 5,\n",
              "       5, 5, 4, 4, 9, 4, 9, 8, 0, 7, 4, 3, 4, 3, 8, 3, 4, 8, 0, 6, 9, 5,\n",
              "       0, 2, 0, 8, 3, 7, 8, 9, 8, 0, 3, 8, 1, 7, 5, 0, 7, 1, 2, 8, 1, 2,\n",
              "       0, 1, 6, 5, 2, 0, 5, 1, 5, 3, 7, 7, 3, 4, 4, 0, 0, 9, 1, 4, 5, 3,\n",
              "       8, 4, 2, 1, 1, 4, 2, 6, 8, 7, 9, 6, 0, 3, 7, 9, 1, 4, 3, 6, 8, 0,\n",
              "       9, 6, 8, 8, 3, 8, 7, 3, 1, 8, 5, 2, 7, 0, 6, 8, 8, 4, 6, 4, 5, 4,\n",
              "       1, 8, 5, 0, 0, 0, 6, 4, 1, 9, 6, 1, 9, 4, 3, 8, 2, 3, 8, 3, 5, 1,\n",
              "       4, 3, 4, 1, 7, 5, 3, 2, 9, 5, 1, 1, 2, 0, 6, 5, 0, 3, 0, 2, 0, 5,\n",
              "       8, 7, 5, 1, 6, 9, 5, 8, 8, 6, 9, 6, 3, 8, 7, 8, 3, 9, 9, 0, 2, 9,\n",
              "       5, 3, 3, 6, 7, 0, 8, 4, 7, 5, 3, 7, 6, 4, 3, 2, 9, 1, 2, 8, 3, 4,\n",
              "       0, 3, 5, 4, 4, 8, 2, 0, 2, 2, 4, 6, 0, 2, 2, 0, 3, 8, 4, 8, 3, 9,\n",
              "       1, 5, 5, 3, 9, 0, 2, 2, 4, 3, 8, 0, 6, 6, 1, 9, 3, 8, 5, 7, 2, 7,\n",
              "       2, 8, 9, 0, 4, 4, 7, 7, 6, 5, 2, 9, 0, 5, 2, 5, 5, 2, 6, 9, 4, 8,\n",
              "       4, 5, 0, 7, 4, 0, 6, 4, 9, 6, 8, 1, 5, 3, 1, 7, 4, 6, 9, 3, 1, 2,\n",
              "       6, 1, 5, 2, 6, 0, 8, 9, 8, 1, 7, 5, 1, 8, 1, 5, 3, 0, 4, 5, 1, 3])"
            ]
          },
          "metadata": {},
          "execution_count": 82
        }
      ]
    },
    {
      "cell_type": "code",
      "source": [
        "(yte!=ypred).sum()/len(yte)"
      ],
      "metadata": {
        "colab": {
          "base_uri": "https://localhost:8080/"
        },
        "id": "41voifO35ZYW",
        "outputId": "fa3e356a-36d2-4a52-df77-1e86253b05f8"
      },
      "execution_count": 83,
      "outputs": [
        {
          "output_type": "execute_result",
          "data": {
            "text/plain": [
              "0.030303030303030304"
            ]
          },
          "metadata": {},
          "execution_count": 83
        }
      ]
    },
    {
      "cell_type": "code",
      "source": [],
      "metadata": {
        "id": "FPwsBRFr-7Tt"
      },
      "execution_count": 83,
      "outputs": []
    },
    {
      "cell_type": "code",
      "source": [
        "mask=yte!=ypred\n",
        "draw_sample_label(xte[mask],ypred[mask])"
      ],
      "metadata": {
        "colab": {
          "base_uri": "https://localhost:8080/",
          "height": 281
        },
        "id": "M7PNaeTw-lK2",
        "outputId": "264a01b0-c20f-423f-8d7e-8e26bfe88397"
      },
      "execution_count": 86,
      "outputs": [
        {
          "output_type": "display_data",
          "data": {
            "text/plain": [
              "<Figure size 432x288 with 20 Axes>"
            ],
            "image/png": "[encoded data removed]"
          },
          "metadata": {
            "needs_background": "light"
          }
        }
      ]
    }
  ]
}