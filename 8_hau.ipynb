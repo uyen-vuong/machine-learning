{
 "cells": [
  {
   "cell_type": "code",
   "execution_count": 29,
   "metadata": {},
   "outputs": [],
   "source": [
    "import numpy as np"
   ]
  },
  {
   "cell_type": "code",
   "execution_count": 30,
   "metadata": {},
   "outputs": [],
   "source": [
    "def init_pop(pop_size):\n",
    "    return np.random.randint(8,size=(pop_size,8))"
   ]
  },
  {
   "cell_type": "code",
   "execution_count": 31,
   "metadata": {},
   "outputs": [
    {
     "name": "stdout",
     "output_type": "stream",
     "text": [
      "[[0 4 1 5 5 4 5 3]\n",
      " [2 5 6 2 7 7 1 6]\n",
      " [7 5 3 1 7 3 2 6]\n",
      " [2 2 6 0 1 1 6 6]]\n"
     ]
    }
   ],
   "source": [
    "initial_population=init_pop(4)\n",
    "print(initial_population)"
   ]
  },
  {
   "cell_type": "code",
   "execution_count": 32,
   "metadata": {},
   "outputs": [],
   "source": [
    "# calculate fitness\n",
    "#penalty=0\n",
    "#for each queen(i):\n",
    "#    r=row of queen(i)\n",
    "#   for each column j!=i:\n",
    "#        d=distance between i and j =abs(i-j)\n",
    "#        check 3 target locations:r,r-d,r+d\n",
    "#        if queen(j) is at any the 3 target locations:\n",
    "#            penalty+=1"
   ]
  },
  {
   "cell_type": "code",
   "execution_count": 33,
   "metadata": {},
   "outputs": [],
   "source": [
    "def calc_fitness(population):#\n",
    "    fitness_vals=[]\n",
    "    for x in population:\n",
    "        penalty=0\n",
    "        for i in range(8):\n",
    "            r=x[i]\n",
    "            for j in range(8):\n",
    "                if i==j:\n",
    "                    continue\n",
    "                d=abs(i-j)\n",
    "                if x[j] in [r,r-d,r+d]:\n",
    "                    penalty+=1\n",
    "        fitness_vals.append(penalty)\n",
    "    return -1* np.array(fitness_vals)\n"
   ]
  },
  {
   "cell_type": "code",
   "execution_count": 34,
   "metadata": {},
   "outputs": [
    {
     "name": "stdout",
     "output_type": "stream",
     "text": [
      "[-16 -12  -8 -14]\n"
     ]
    }
   ],
   "source": [
    "fitness_vals=calc_fitness(initial_population)\n",
    "print(fitness_vals)"
   ]
  },
  {
   "cell_type": "code",
   "execution_count": 35,
   "metadata": {},
   "outputs": [],
   "source": [
    "def selection(population,fitness_vals):\n",
    "    probs= fitness_vals.copy()\n",
    "    probs+=abs(probs.min())+1\n",
    "    probs =probs/probs.sum()\n",
    "    N=len(population)\n",
    "    indices=np.arange(N)\n",
    "    selected_indices= np.random.choice(indices,size=N,p=probs)\n",
    "    selected_population=population[selected_indices]\n",
    "    return selected_population"
   ]
  },
  {
   "cell_type": "code",
   "execution_count": 36,
   "metadata": {},
   "outputs": [
    {
     "name": "stdout",
     "output_type": "stream",
     "text": [
      "[[2 2 6 0 1 1 6 6]\n",
      " [7 5 3 1 7 3 2 6]\n",
      " [2 5 6 2 7 7 1 6]\n",
      " [7 5 3 1 7 3 2 6]]\n"
     ]
    }
   ],
   "source": [
    "selected_population=selection(initial_population,fitness_vals)\n",
    "print(selected_population)"
   ]
  },
  {
   "cell_type": "code",
   "execution_count": 37,
   "metadata": {},
   "outputs": [],
   "source": [
    "def crossover(parent1,parent2,pc):\n",
    "    r=np.random.random()\n",
    "    if r<pc:\n",
    "        m=np.random.randint(1,8)\n",
    "        child1=np.concatenate([parent1[:m],parent2[m:]])\n",
    "        child2=np.concatenate([parent2[:m],parent1[m:]])\n",
    "    else:\n",
    "        child1=parent1.copy()\n",
    "        child2=parent2.copy()\n",
    "    return child1,child2"
   ]
  },
  {
   "cell_type": "code",
   "execution_count": 38,
   "metadata": {},
   "outputs": [
    {
     "name": "stdout",
     "output_type": "stream",
     "text": [
      "[2 2 6 0 1 1 6 6] --> [2 2 6 0 1 1 6 6]\n",
      "[7 5 3 1 7 3 2 6] --> [7 5 3 1 7 3 2 6]\n"
     ]
    }
   ],
   "source": [
    "parent1=selected_population[0]\n",
    "parent2=selected_population[1]\n",
    "child1,child2=crossover(parent1,parent2,pc=0.70)\n",
    "print(parent1,'-->',child1)\n",
    "print(parent2,'-->', child2)"
   ]
  },
  {
   "cell_type": "code",
   "execution_count": 39,
   "metadata": {},
   "outputs": [],
   "source": [
    "def mutation(individual,pm):\n",
    "    r=np.random.random()\n",
    "    if r<pm:\n",
    "        m=np.random.randint(8)\n",
    "        individual[m]=np.random.randint(8)\n",
    "    return individual"
   ]
  },
  {
   "cell_type": "code",
   "execution_count": 40,
   "metadata": {},
   "outputs": [],
   "source": [
    "def crossover_mutation(selected_pop,pc,pm):\n",
    "    N=len(selected_pop)\n",
    "    new_pop=np.empty((N,8),dtype=int)\n",
    "    for i in range(0,N,2):\n",
    "        parent1=selected_pop[i]\n",
    "        parent2=selected_pop[i+1]\n",
    "        child1, child2=crossover(parent1,parent2,pc)\n",
    "        new_pop[i]=child1\n",
    "        new_pop[i+1]=child2\n",
    "    for i in range(N):\n",
    "        mutation(new_pop[i],pm)\n",
    "    return new_pop"
   ]
  },
  {
   "cell_type": "code",
   "execution_count": 41,
   "metadata": {},
   "outputs": [],
   "source": [
    "def eight_queens(pop_size,max_generations,pc=0.7,pm=0.01):\n",
    "    population= init_pop(pop_size)\n",
    "    best_fitness_overall=None\n",
    "    for i_gen in range(max_generations):\n",
    "        fitness_vals=calc_fitness(population)\n",
    "        best_i=fitness_vals.argmax()\n",
    "        best_fitness=fitness_vals[best_i]\n",
    "        if best_fitness_overall is None or best_fitness>best_fitness_overall:\n",
    "            best_fitness_overall=best_fitness\n",
    "            best_solution=population[best_i]\n",
    "        print(f'\\ri_gen={i_gen:06} -f={-best_fitness_overall:03}',end='')\n",
    "        if best_fitness==0:\n",
    "            print('\\nFound optimal solution')\n",
    "            break\n",
    "        selected_pop=selection(population,fitness_vals)\n",
    "        population=crossover_mutation(selected_pop,pc,pm)\n",
    "    print()\n",
    "    print(best_solution)"
   ]
  },
  {
   "cell_type": "code",
   "execution_count": 42,
   "metadata": {},
   "outputs": [
    {
     "name": "stdout",
     "output_type": "stream",
     "text": [
      "i_gen=000014 -f=000\n",
      "Found optimal solution\n",
      "\n",
      "[6 2 7 1 4 0 5 3]\n"
     ]
    }
   ],
   "source": [
    "eight_queens(pop_size=500, max_generations=100000,pc=0.7,pm=0.05)"
   ]
  }
 ],
 "metadata": {
  "interpreter": {
   "hash": "175124d6049d85badc0d1449172ea1208bba83c1c9a2f6f343851cfcd458bf9c"
  },
  "kernelspec": {
   "display_name": "Python 3.9.13 ('base')",
   "language": "python",
   "name": "python3"
  },
  "language_info": {
   "codemirror_mode": {
    "name": "ipython",
    "version": 3
   },
   "file_extension": ".py",
   "mimetype": "text/x-python",
   "name": "python",
   "nbconvert_exporter": "python",
   "pygments_lexer": "ipython3",
   "version": "3.9.13"
  },
  "orig_nbformat": 4
 },
 "nbformat": 4,
 "nbformat_minor": 2
}
