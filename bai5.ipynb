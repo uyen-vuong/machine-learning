{
  "cells": [
    {
      "cell_type": "code",
      "execution_count": 1,
      "metadata": {
        "id": "vFJsmbHbJFnk"
      },
      "outputs": [],
      "source": [
        "import numpy as np\n",
        "import pandas as pd\n",
        "import matplotlib.pyplot as plt\n",
        "from sklearn.preprocessing import LabelEncoder\n",
        "from sklearn.cluster import DBSCAN"
      ]
    },
    {
      "cell_type": "code",
      "execution_count": 2,
      "metadata": {
        "colab": {
          "base_uri": "https://localhost:8080/",
          "height": 424
        },
        "id": "yPP5Sp3QKIKb",
        "outputId": "65123001-93bb-465c-9c01-1b72da59e9a7"
      },
      "outputs": [
        {
          "data": {
            "text/html": [
              "<div>\n",
              "<style scoped>\n",
              "    .dataframe tbody tr th:only-of-type {\n",
              "        vertical-align: middle;\n",
              "    }\n",
              "\n",
              "    .dataframe tbody tr th {\n",
              "        vertical-align: top;\n",
              "    }\n",
              "\n",
              "    .dataframe thead th {\n",
              "        text-align: right;\n",
              "    }\n",
              "</style>\n",
              "<table border=\"1\" class=\"dataframe\">\n",
              "  <thead>\n",
              "    <tr style=\"text-align: right;\">\n",
              "      <th></th>\n",
              "      <th>country</th>\n",
              "      <th>latitude</th>\n",
              "      <th>longitude</th>\n",
              "      <th>name</th>\n",
              "    </tr>\n",
              "  </thead>\n",
              "  <tbody>\n",
              "    <tr>\n",
              "      <th>0</th>\n",
              "      <td>AD</td>\n",
              "      <td>42.546245</td>\n",
              "      <td>1.601554</td>\n",
              "      <td>Andorra</td>\n",
              "    </tr>\n",
              "    <tr>\n",
              "      <th>1</th>\n",
              "      <td>AE</td>\n",
              "      <td>23.424076</td>\n",
              "      <td>53.847818</td>\n",
              "      <td>United Arab Emirates</td>\n",
              "    </tr>\n",
              "    <tr>\n",
              "      <th>2</th>\n",
              "      <td>AF</td>\n",
              "      <td>33.939110</td>\n",
              "      <td>67.709953</td>\n",
              "      <td>Afghanistan</td>\n",
              "    </tr>\n",
              "    <tr>\n",
              "      <th>3</th>\n",
              "      <td>AG</td>\n",
              "      <td>17.060816</td>\n",
              "      <td>-61.796428</td>\n",
              "      <td>Antigua and Barbuda</td>\n",
              "    </tr>\n",
              "    <tr>\n",
              "      <th>4</th>\n",
              "      <td>AI</td>\n",
              "      <td>18.220554</td>\n",
              "      <td>-63.068615</td>\n",
              "      <td>Anguilla</td>\n",
              "    </tr>\n",
              "    <tr>\n",
              "      <th>...</th>\n",
              "      <td>...</td>\n",
              "      <td>...</td>\n",
              "      <td>...</td>\n",
              "      <td>...</td>\n",
              "    </tr>\n",
              "    <tr>\n",
              "      <th>240</th>\n",
              "      <td>YE</td>\n",
              "      <td>15.552727</td>\n",
              "      <td>48.516388</td>\n",
              "      <td>Yemen</td>\n",
              "    </tr>\n",
              "    <tr>\n",
              "      <th>241</th>\n",
              "      <td>YT</td>\n",
              "      <td>-12.827500</td>\n",
              "      <td>45.166244</td>\n",
              "      <td>Mayotte</td>\n",
              "    </tr>\n",
              "    <tr>\n",
              "      <th>242</th>\n",
              "      <td>ZA</td>\n",
              "      <td>-30.559482</td>\n",
              "      <td>22.937506</td>\n",
              "      <td>South Africa</td>\n",
              "    </tr>\n",
              "    <tr>\n",
              "      <th>243</th>\n",
              "      <td>ZM</td>\n",
              "      <td>-13.133897</td>\n",
              "      <td>27.849332</td>\n",
              "      <td>Zambia</td>\n",
              "    </tr>\n",
              "    <tr>\n",
              "      <th>244</th>\n",
              "      <td>ZW</td>\n",
              "      <td>-19.015438</td>\n",
              "      <td>29.154857</td>\n",
              "      <td>Zimbabwe</td>\n",
              "    </tr>\n",
              "  </tbody>\n",
              "</table>\n",
              "<p>245 rows × 4 columns</p>\n",
              "</div>"
            ],
            "text/plain": [
              "    country   latitude  longitude                  name\n",
              "0        AD  42.546245   1.601554               Andorra\n",
              "1        AE  23.424076  53.847818  United Arab Emirates\n",
              "2        AF  33.939110  67.709953           Afghanistan\n",
              "3        AG  17.060816 -61.796428   Antigua and Barbuda\n",
              "4        AI  18.220554 -63.068615              Anguilla\n",
              "..      ...        ...        ...                   ...\n",
              "240      YE  15.552727  48.516388                 Yemen\n",
              "241      YT -12.827500  45.166244               Mayotte\n",
              "242      ZA -30.559482  22.937506          South Africa\n",
              "243      ZM -13.133897  27.849332                Zambia\n",
              "244      ZW -19.015438  29.154857              Zimbabwe\n",
              "\n",
              "[245 rows x 4 columns]"
            ]
          },
          "execution_count": 2,
          "metadata": {},
          "output_type": "execute_result"
        }
      ],
      "source": [
        "df = pd.read_csv('countries.csv')\n",
        "df"
      ]
    },
    {
      "cell_type": "code",
      "execution_count": 3,
      "metadata": {
        "colab": {
          "base_uri": "https://localhost:8080/"
        },
        "id": "RQ8wfA2sKyx-",
        "outputId": "a71be065-5249-4c1c-b292-3846f31a5d23"
      },
      "outputs": [
        {
          "data": {
            "text/plain": [
              "country      1\n",
              "latitude     1\n",
              "longitude    1\n",
              "name         0\n",
              "dtype: int64"
            ]
          },
          "execution_count": 3,
          "metadata": {},
          "output_type": "execute_result"
        }
      ],
      "source": [
        "df.isnull().sum()"
      ]
    },
    {
      "cell_type": "code",
      "execution_count": 4,
      "metadata": {
        "id": "NooqQLOiK2At"
      },
      "outputs": [],
      "source": [
        "def numberic(dataframe: pd.DataFrame):\n",
        "    df = dataframe.copy()\n",
        "    for key in df.keys():\n",
        "        if df[key].dtype == object:\n",
        "            df[key] = LabelEncoder().fit_transform(df[key])\n",
        "\n",
        "    return df"
      ]
    },
    {
      "cell_type": "code",
      "execution_count": 5,
      "metadata": {
        "id": "cnQlLDUILCbZ"
      },
      "outputs": [],
      "source": [
        "df['country'].fillna(df['country'].mode()[0], inplace = True)"
      ]
    },
    {
      "cell_type": "code",
      "execution_count": 7,
      "metadata": {
        "id": "4245IAugO5rf"
      },
      "outputs": [],
      "source": [
        "def replace_Nan_data(dataframe: pd.DataFrame) -> pd.DataFrame:\n",
        "    df = dataframe.copy()\n",
        "    for key in df.keys():\n",
        "        if df[key].isnull().sum() > 0:\n",
        "            df[key].fillna(round(df[key].median()), inplace=True)\n",
        "    return df"
      ]
    },
    {
      "cell_type": "code",
      "execution_count": 8,
      "metadata": {
        "id": "Y1srM1oLPTPG"
      },
      "outputs": [],
      "source": [
        "df=replace_Nan_data(df)"
      ]
    },
    {
      "cell_type": "code",
      "execution_count": 9,
      "metadata": {
        "colab": {
          "base_uri": "https://localhost:8080/",
          "height": 542
        },
        "id": "r7cao_V1KXSc",
        "outputId": "427139db-8241-4825-ae9d-5f0e8131a159"
      },
      "outputs": [
        {
          "data": {
            "application/vnd.plotly.v1+json": {
              "config": {
                "plotlyServerURL": "https://plot.ly"
              },
              "data": [
                {
                  "hovertemplate": "country=AD<br>latitude=%{x}<br>longitude=%{y}<extra></extra>",
                  "legendgroup": "AD",
                  "marker": {
                    "color": "#636efa",
                    "symbol": "circle"
                  },
                  "mode": "markers",
                  "name": "AD",
                  "orientation": "v",
                  "showlegend": true,
                  "type": "scatter",
                  "x": [
                    42.546245,
                    -22.95764
                  ],
                  "xaxis": "x",
                  "y": [
                    1.601554,
                    18.49041
                  ],
                  "yaxis": "y"
                },
                {
                  "hovertemplate": "country=AE<br>latitude=%{x}<br>longitude=%{y}<extra></extra>",
                  "legendgroup": "AE",
                  "marker": {
                    "color": "#EF553B",
                    "symbol": "circle"
                  },
                  "mode": "markers",
                  "name": "AE",
                  "orientation": "v",
                  "showlegend": true,
                  "type": "scatter",
                  "x": [
                    23.424076
                  ],
                  "xaxis": "x",
                  "y": [
                    53.847818
                  ],
                  "yaxis": "y"
                },
                {
                  "hovertemplate": "country=AF<br>latitude=%{x}<br>longitude=%{y}<extra></extra>",
                  "legendgroup": "AF",
                  "marker": {
                    "color": "#00cc96",
                    "symbol": "circle"
                  },
                  "mode": "markers",
                  "name": "AF",
                  "orientation": "v",
                  "showlegend": true,
                  "type": "scatter",
                  "x": [
                    33.93911
                  ],
                  "xaxis": "x",
                  "y": [
                    67.709953
                  ],
                  "yaxis": "y"
                },
                {
                  "hovertemplate": "country=AG<br>latitude=%{x}<br>longitude=%{y}<extra></extra>",
                  "legendgroup": "AG",
                  "marker": {
                    "color": "#ab63fa",
                    "symbol": "circle"
                  },
                  "mode": "markers",
                  "name": "AG",
                  "orientation": "v",
                  "showlegend": true,
                  "type": "scatter",
                  "x": [
                    17.060816
                  ],
                  "xaxis": "x",
                  "y": [
                    -61.796428
                  ],
                  "yaxis": "y"
                },
                {
                  "hovertemplate": "country=AI<br>latitude=%{x}<br>longitude=%{y}<extra></extra>",
                  "legendgroup": "AI",
                  "marker": {
                    "color": "#FFA15A",
                    "symbol": "circle"
                  },
                  "mode": "markers",
                  "name": "AI",
                  "orientation": "v",
                  "showlegend": true,
                  "type": "scatter",
                  "x": [
                    18.220554
                  ],
                  "xaxis": "x",
                  "y": [
                    -63.068615
                  ],
                  "yaxis": "y"
                },
                {
                  "hovertemplate": "country=AL<br>latitude=%{x}<br>longitude=%{y}<extra></extra>",
                  "legendgroup": "AL",
                  "marker": {
                    "color": "#19d3f3",
                    "symbol": "circle"
                  },
                  "mode": "markers",
                  "name": "AL",
                  "orientation": "v",
                  "showlegend": true,
                  "type": "scatter",
                  "x": [
                    41.153332
                  ],
                  "xaxis": "x",
                  "y": [
                    20.168331
                  ],
                  "yaxis": "y"
                },
                {
                  "hovertemplate": "country=AM<br>latitude=%{x}<br>longitude=%{y}<extra></extra>",
                  "legendgroup": "AM",
                  "marker": {
                    "color": "#FF6692",
                    "symbol": "circle"
                  },
                  "mode": "markers",
                  "name": "AM",
                  "orientation": "v",
                  "showlegend": true,
                  "type": "scatter",
                  "x": [
                    40.069099
                  ],
                  "xaxis": "x",
                  "y": [
                    45.038189
                  ],
                  "yaxis": "y"
                },
                {
                  "hovertemplate": "country=AN<br>latitude=%{x}<br>longitude=%{y}<extra></extra>",
                  "legendgroup": "AN",
                  "marker": {
                    "color": "#B6E880",
                    "symbol": "circle"
                  },
                  "mode": "markers",
                  "name": "AN",
                  "orientation": "v",
                  "showlegend": true,
                  "type": "scatter",
                  "x": [
                    12.226079
                  ],
                  "xaxis": "x",
                  "y": [
                    -69.060087
                  ],
                  "yaxis": "y"
                },
                {
                  "hovertemplate": "country=AO<br>latitude=%{x}<br>longitude=%{y}<extra></extra>",
                  "legendgroup": "AO",
                  "marker": {
                    "color": "#FF97FF",
                    "symbol": "circle"
                  },
                  "mode": "markers",
                  "name": "AO",
                  "orientation": "v",
                  "showlegend": true,
                  "type": "scatter",
                  "x": [
                    -11.202692
                  ],
                  "xaxis": "x",
                  "y": [
                    17.873887
                  ],
                  "yaxis": "y"
                },
                {
                  "hovertemplate": "country=AQ<br>latitude=%{x}<br>longitude=%{y}<extra></extra>",
                  "legendgroup": "AQ",
                  "marker": {
                    "color": "#FECB52",
                    "symbol": "circle"
                  },
                  "mode": "markers",
                  "name": "AQ",
                  "orientation": "v",
                  "showlegend": true,
                  "type": "scatter",
                  "x": [
                    -75.250973
                  ],
                  "xaxis": "x",
                  "y": [
                    -0.071389
                  ],
                  "yaxis": "y"
                },
                {
                  "hovertemplate": "country=AR<br>latitude=%{x}<br>longitude=%{y}<extra></extra>",
                  "legendgroup": "AR",
                  "marker": {
                    "color": "#636efa",
                    "symbol": "circle"
                  },
                  "mode": "markers",
                  "name": "AR",
                  "orientation": "v",
                  "showlegend": true,
                  "type": "scatter",
                  "x": [
                    -38.416097
                  ],
                  "xaxis": "x",
                  "y": [
                    -63.616672
                  ],
                  "yaxis": "y"
                },
                {
                  "hovertemplate": "country=AS<br>latitude=%{x}<br>longitude=%{y}<extra></extra>",
                  "legendgroup": "AS",
                  "marker": {
                    "color": "#EF553B",
                    "symbol": "circle"
                  },
                  "mode": "markers",
                  "name": "AS",
                  "orientation": "v",
                  "showlegend": true,
                  "type": "scatter",
                  "x": [
                    -14.270972
                  ],
                  "xaxis": "x",
                  "y": [
                    -170.132217
                  ],
                  "yaxis": "y"
                },
                {
                  "hovertemplate": "country=AT<br>latitude=%{x}<br>longitude=%{y}<extra></extra>",
                  "legendgroup": "AT",
                  "marker": {
                    "color": "#00cc96",
                    "symbol": "circle"
                  },
                  "mode": "markers",
                  "name": "AT",
                  "orientation": "v",
                  "showlegend": true,
                  "type": "scatter",
                  "x": [
                    47.516231
                  ],
                  "xaxis": "x",
                  "y": [
                    14.550072
                  ],
                  "yaxis": "y"
                },
                {
                  "hovertemplate": "country=AU<br>latitude=%{x}<br>longitude=%{y}<extra></extra>",
                  "legendgroup": "AU",
                  "marker": {
                    "color": "#ab63fa",
                    "symbol": "circle"
                  },
                  "mode": "markers",
                  "name": "AU",
                  "orientation": "v",
                  "showlegend": true,
                  "type": "scatter",
                  "x": [
                    -25.274398
                  ],
                  "xaxis": "x",
                  "y": [
                    133.775136
                  ],
                  "yaxis": "y"
                },
                {
                  "hovertemplate": "country=AW<br>latitude=%{x}<br>longitude=%{y}<extra></extra>",
                  "legendgroup": "AW",
                  "marker": {
                    "color": "#FFA15A",
                    "symbol": "circle"
                  },
                  "mode": "markers",
                  "name": "AW",
                  "orientation": "v",
                  "showlegend": true,
                  "type": "scatter",
                  "x": [
                    12.52111
                  ],
                  "xaxis": "x",
                  "y": [
                    -69.968338
                  ],
                  "yaxis": "y"
                },
                {
                  "hovertemplate": "country=AZ<br>latitude=%{x}<br>longitude=%{y}<extra></extra>",
                  "legendgroup": "AZ",
                  "marker": {
                    "color": "#19d3f3",
                    "symbol": "circle"
                  },
                  "mode": "markers",
                  "name": "AZ",
                  "orientation": "v",
                  "showlegend": true,
                  "type": "scatter",
                  "x": [
                    40.143105
                  ],
                  "xaxis": "x",
                  "y": [
                    47.576927
                  ],
                  "yaxis": "y"
                },
                {
                  "hovertemplate": "country=BA<br>latitude=%{x}<br>longitude=%{y}<extra></extra>",
                  "legendgroup": "BA",
                  "marker": {
                    "color": "#FF6692",
                    "symbol": "circle"
                  },
                  "mode": "markers",
                  "name": "BA",
                  "orientation": "v",
                  "showlegend": true,
                  "type": "scatter",
                  "x": [
                    43.915886
                  ],
                  "xaxis": "x",
                  "y": [
                    17.679076
                  ],
                  "yaxis": "y"
                },
                {
                  "hovertemplate": "country=BB<br>latitude=%{x}<br>longitude=%{y}<extra></extra>",
                  "legendgroup": "BB",
                  "marker": {
                    "color": "#B6E880",
                    "symbol": "circle"
                  },
                  "mode": "markers",
                  "name": "BB",
                  "orientation": "v",
                  "showlegend": true,
                  "type": "scatter",
                  "x": [
                    13.193887
                  ],
                  "xaxis": "x",
                  "y": [
                    -59.543198
                  ],
                  "yaxis": "y"
                },
                {
                  "hovertemplate": "country=BD<br>latitude=%{x}<br>longitude=%{y}<extra></extra>",
                  "legendgroup": "BD",
                  "marker": {
                    "color": "#FF97FF",
                    "symbol": "circle"
                  },
                  "mode": "markers",
                  "name": "BD",
                  "orientation": "v",
                  "showlegend": true,
                  "type": "scatter",
                  "x": [
                    23.684994
                  ],
                  "xaxis": "x",
                  "y": [
                    90.356331
                  ],
                  "yaxis": "y"
                },
                {
                  "hovertemplate": "country=BE<br>latitude=%{x}<br>longitude=%{y}<extra></extra>",
                  "legendgroup": "BE",
                  "marker": {
                    "color": "#FECB52",
                    "symbol": "circle"
                  },
                  "mode": "markers",
                  "name": "BE",
                  "orientation": "v",
                  "showlegend": true,
                  "type": "scatter",
                  "x": [
                    50.503887
                  ],
                  "xaxis": "x",
                  "y": [
                    4.469936
                  ],
                  "yaxis": "y"
                },
                {
                  "hovertemplate": "country=BF<br>latitude=%{x}<br>longitude=%{y}<extra></extra>",
                  "legendgroup": "BF",
                  "marker": {
                    "color": "#636efa",
                    "symbol": "circle"
                  },
                  "mode": "markers",
                  "name": "BF",
                  "orientation": "v",
                  "showlegend": true,
                  "type": "scatter",
                  "x": [
                    12.238333
                  ],
                  "xaxis": "x",
                  "y": [
                    -1.561593
                  ],
                  "yaxis": "y"
                },
                {
                  "hovertemplate": "country=BG<br>latitude=%{x}<br>longitude=%{y}<extra></extra>",
                  "legendgroup": "BG",
                  "marker": {
                    "color": "#EF553B",
                    "symbol": "circle"
                  },
                  "mode": "markers",
                  "name": "BG",
                  "orientation": "v",
                  "showlegend": true,
                  "type": "scatter",
                  "x": [
                    42.733883
                  ],
                  "xaxis": "x",
                  "y": [
                    25.48583
                  ],
                  "yaxis": "y"
                },
                {
                  "hovertemplate": "country=BH<br>latitude=%{x}<br>longitude=%{y}<extra></extra>",
                  "legendgroup": "BH",
                  "marker": {
                    "color": "#00cc96",
                    "symbol": "circle"
                  },
                  "mode": "markers",
                  "name": "BH",
                  "orientation": "v",
                  "showlegend": true,
                  "type": "scatter",
                  "x": [
                    25.930414
                  ],
                  "xaxis": "x",
                  "y": [
                    50.637772
                  ],
                  "yaxis": "y"
                },
                {
                  "hovertemplate": "country=BI<br>latitude=%{x}<br>longitude=%{y}<extra></extra>",
                  "legendgroup": "BI",
                  "marker": {
                    "color": "#ab63fa",
                    "symbol": "circle"
                  },
                  "mode": "markers",
                  "name": "BI",
                  "orientation": "v",
                  "showlegend": true,
                  "type": "scatter",
                  "x": [
                    -3.373056
                  ],
                  "xaxis": "x",
                  "y": [
                    29.918886
                  ],
                  "yaxis": "y"
                },
                {
                  "hovertemplate": "country=BJ<br>latitude=%{x}<br>longitude=%{y}<extra></extra>",
                  "legendgroup": "BJ",
                  "marker": {
                    "color": "#FFA15A",
                    "symbol": "circle"
                  },
                  "mode": "markers",
                  "name": "BJ",
                  "orientation": "v",
                  "showlegend": true,
                  "type": "scatter",
                  "x": [
                    9.30769
                  ],
                  "xaxis": "x",
                  "y": [
                    2.315834
                  ],
                  "yaxis": "y"
                },
                {
                  "hovertemplate": "country=BM<br>latitude=%{x}<br>longitude=%{y}<extra></extra>",
                  "legendgroup": "BM",
                  "marker": {
                    "color": "#19d3f3",
                    "symbol": "circle"
                  },
                  "mode": "markers",
                  "name": "BM",
                  "orientation": "v",
                  "showlegend": true,
                  "type": "scatter",
                  "x": [
                    32.321384
                  ],
                  "xaxis": "x",
                  "y": [
                    -64.75737
                  ],
                  "yaxis": "y"
                },
                {
                  "hovertemplate": "country=BN<br>latitude=%{x}<br>longitude=%{y}<extra></extra>",
                  "legendgroup": "BN",
                  "marker": {
                    "color": "#FF6692",
                    "symbol": "circle"
                  },
                  "mode": "markers",
                  "name": "BN",
                  "orientation": "v",
                  "showlegend": true,
                  "type": "scatter",
                  "x": [
                    4.535277
                  ],
                  "xaxis": "x",
                  "y": [
                    114.727669
                  ],
                  "yaxis": "y"
                },
                {
                  "hovertemplate": "country=BO<br>latitude=%{x}<br>longitude=%{y}<extra></extra>",
                  "legendgroup": "BO",
                  "marker": {
                    "color": "#B6E880",
                    "symbol": "circle"
                  },
                  "mode": "markers",
                  "name": "BO",
                  "orientation": "v",
                  "showlegend": true,
                  "type": "scatter",
                  "x": [
                    -16.290154
                  ],
                  "xaxis": "x",
                  "y": [
                    -63.588653
                  ],
                  "yaxis": "y"
                },
                {
                  "hovertemplate": "country=BR<br>latitude=%{x}<br>longitude=%{y}<extra></extra>",
                  "legendgroup": "BR",
                  "marker": {
                    "color": "#FF97FF",
                    "symbol": "circle"
                  },
                  "mode": "markers",
                  "name": "BR",
                  "orientation": "v",
                  "showlegend": true,
                  "type": "scatter",
                  "x": [
                    -14.235004
                  ],
                  "xaxis": "x",
                  "y": [
                    -51.92528
                  ],
                  "yaxis": "y"
                },
                {
                  "hovertemplate": "country=BS<br>latitude=%{x}<br>longitude=%{y}<extra></extra>",
                  "legendgroup": "BS",
                  "marker": {
                    "color": "#FECB52",
                    "symbol": "circle"
                  },
                  "mode": "markers",
                  "name": "BS",
                  "orientation": "v",
                  "showlegend": true,
                  "type": "scatter",
                  "x": [
                    25.03428
                  ],
                  "xaxis": "x",
                  "y": [
                    -77.39628
                  ],
                  "yaxis": "y"
                },
                {
                  "hovertemplate": "country=BT<br>latitude=%{x}<br>longitude=%{y}<extra></extra>",
                  "legendgroup": "BT",
                  "marker": {
                    "color": "#636efa",
                    "symbol": "circle"
                  },
                  "mode": "markers",
                  "name": "BT",
                  "orientation": "v",
                  "showlegend": true,
                  "type": "scatter",
                  "x": [
                    27.514162
                  ],
                  "xaxis": "x",
                  "y": [
                    90.433601
                  ],
                  "yaxis": "y"
                },
                {
                  "hovertemplate": "country=BV<br>latitude=%{x}<br>longitude=%{y}<extra></extra>",
                  "legendgroup": "BV",
                  "marker": {
                    "color": "#EF553B",
                    "symbol": "circle"
                  },
                  "mode": "markers",
                  "name": "BV",
                  "orientation": "v",
                  "showlegend": true,
                  "type": "scatter",
                  "x": [
                    -54.423199
                  ],
                  "xaxis": "x",
                  "y": [
                    3.413194
                  ],
                  "yaxis": "y"
                },
                {
                  "hovertemplate": "country=BW<br>latitude=%{x}<br>longitude=%{y}<extra></extra>",
                  "legendgroup": "BW",
                  "marker": {
                    "color": "#00cc96",
                    "symbol": "circle"
                  },
                  "mode": "markers",
                  "name": "BW",
                  "orientation": "v",
                  "showlegend": true,
                  "type": "scatter",
                  "x": [
                    -22.328474
                  ],
                  "xaxis": "x",
                  "y": [
                    24.684866
                  ],
                  "yaxis": "y"
                },
                {
                  "hovertemplate": "country=BY<br>latitude=%{x}<br>longitude=%{y}<extra></extra>",
                  "legendgroup": "BY",
                  "marker": {
                    "color": "#ab63fa",
                    "symbol": "circle"
                  },
                  "mode": "markers",
                  "name": "BY",
                  "orientation": "v",
                  "showlegend": true,
                  "type": "scatter",
                  "x": [
                    53.709807
                  ],
                  "xaxis": "x",
                  "y": [
                    27.953389
                  ],
                  "yaxis": "y"
                },
                {
                  "hovertemplate": "country=BZ<br>latitude=%{x}<br>longitude=%{y}<extra></extra>",
                  "legendgroup": "BZ",
                  "marker": {
                    "color": "#FFA15A",
                    "symbol": "circle"
                  },
                  "mode": "markers",
                  "name": "BZ",
                  "orientation": "v",
                  "showlegend": true,
                  "type": "scatter",
                  "x": [
                    17.189877
                  ],
                  "xaxis": "x",
                  "y": [
                    -88.49765
                  ],
                  "yaxis": "y"
                },
                {
                  "hovertemplate": "country=CA<br>latitude=%{x}<br>longitude=%{y}<extra></extra>",
                  "legendgroup": "CA",
                  "marker": {
                    "color": "#19d3f3",
                    "symbol": "circle"
                  },
                  "mode": "markers",
                  "name": "CA",
                  "orientation": "v",
                  "showlegend": true,
                  "type": "scatter",
                  "x": [
                    56.130366
                  ],
                  "xaxis": "x",
                  "y": [
                    -106.346771
                  ],
                  "yaxis": "y"
                },
                {
                  "hovertemplate": "country=CC<br>latitude=%{x}<br>longitude=%{y}<extra></extra>",
                  "legendgroup": "CC",
                  "marker": {
                    "color": "#FF6692",
                    "symbol": "circle"
                  },
                  "mode": "markers",
                  "name": "CC",
                  "orientation": "v",
                  "showlegend": true,
                  "type": "scatter",
                  "x": [
                    -12.164165
                  ],
                  "xaxis": "x",
                  "y": [
                    96.870956
                  ],
                  "yaxis": "y"
                },
                {
                  "hovertemplate": "country=CD<br>latitude=%{x}<br>longitude=%{y}<extra></extra>",
                  "legendgroup": "CD",
                  "marker": {
                    "color": "#B6E880",
                    "symbol": "circle"
                  },
                  "mode": "markers",
                  "name": "CD",
                  "orientation": "v",
                  "showlegend": true,
                  "type": "scatter",
                  "x": [
                    -4.038333
                  ],
                  "xaxis": "x",
                  "y": [
                    21.758664
                  ],
                  "yaxis": "y"
                },
                {
                  "hovertemplate": "country=CF<br>latitude=%{x}<br>longitude=%{y}<extra></extra>",
                  "legendgroup": "CF",
                  "marker": {
                    "color": "#FF97FF",
                    "symbol": "circle"
                  },
                  "mode": "markers",
                  "name": "CF",
                  "orientation": "v",
                  "showlegend": true,
                  "type": "scatter",
                  "x": [
                    6.611111
                  ],
                  "xaxis": "x",
                  "y": [
                    20.939444
                  ],
                  "yaxis": "y"
                },
                {
                  "hovertemplate": "country=CG<br>latitude=%{x}<br>longitude=%{y}<extra></extra>",
                  "legendgroup": "CG",
                  "marker": {
                    "color": "#FECB52",
                    "symbol": "circle"
                  },
                  "mode": "markers",
                  "name": "CG",
                  "orientation": "v",
                  "showlegend": true,
                  "type": "scatter",
                  "x": [
                    -0.228021
                  ],
                  "xaxis": "x",
                  "y": [
                    15.827659
                  ],
                  "yaxis": "y"
                },
                {
                  "hovertemplate": "country=CH<br>latitude=%{x}<br>longitude=%{y}<extra></extra>",
                  "legendgroup": "CH",
                  "marker": {
                    "color": "#636efa",
                    "symbol": "circle"
                  },
                  "mode": "markers",
                  "name": "CH",
                  "orientation": "v",
                  "showlegend": true,
                  "type": "scatter",
                  "x": [
                    46.818188
                  ],
                  "xaxis": "x",
                  "y": [
                    8.227512
                  ],
                  "yaxis": "y"
                },
                {
                  "hovertemplate": "country=CI<br>latitude=%{x}<br>longitude=%{y}<extra></extra>",
                  "legendgroup": "CI",
                  "marker": {
                    "color": "#EF553B",
                    "symbol": "circle"
                  },
                  "mode": "markers",
                  "name": "CI",
                  "orientation": "v",
                  "showlegend": true,
                  "type": "scatter",
                  "x": [
                    7.539989
                  ],
                  "xaxis": "x",
                  "y": [
                    -5.54708
                  ],
                  "yaxis": "y"
                },
                {
                  "hovertemplate": "country=CK<br>latitude=%{x}<br>longitude=%{y}<extra></extra>",
                  "legendgroup": "CK",
                  "marker": {
                    "color": "#00cc96",
                    "symbol": "circle"
                  },
                  "mode": "markers",
                  "name": "CK",
                  "orientation": "v",
                  "showlegend": true,
                  "type": "scatter",
                  "x": [
                    -21.236736
                  ],
                  "xaxis": "x",
                  "y": [
                    -159.777671
                  ],
                  "yaxis": "y"
                },
                {
                  "hovertemplate": "country=CL<br>latitude=%{x}<br>longitude=%{y}<extra></extra>",
                  "legendgroup": "CL",
                  "marker": {
                    "color": "#ab63fa",
                    "symbol": "circle"
                  },
                  "mode": "markers",
                  "name": "CL",
                  "orientation": "v",
                  "showlegend": true,
                  "type": "scatter",
                  "x": [
                    -35.675147
                  ],
                  "xaxis": "x",
                  "y": [
                    -71.542969
                  ],
                  "yaxis": "y"
                },
                {
                  "hovertemplate": "country=CM<br>latitude=%{x}<br>longitude=%{y}<extra></extra>",
                  "legendgroup": "CM",
                  "marker": {
                    "color": "#FFA15A",
                    "symbol": "circle"
                  },
                  "mode": "markers",
                  "name": "CM",
                  "orientation": "v",
                  "showlegend": true,
                  "type": "scatter",
                  "x": [
                    7.369722
                  ],
                  "xaxis": "x",
                  "y": [
                    12.354722
                  ],
                  "yaxis": "y"
                },
                {
                  "hovertemplate": "country=CN<br>latitude=%{x}<br>longitude=%{y}<extra></extra>",
                  "legendgroup": "CN",
                  "marker": {
                    "color": "#19d3f3",
                    "symbol": "circle"
                  },
                  "mode": "markers",
                  "name": "CN",
                  "orientation": "v",
                  "showlegend": true,
                  "type": "scatter",
                  "x": [
                    35.86166
                  ],
                  "xaxis": "x",
                  "y": [
                    104.195397
                  ],
                  "yaxis": "y"
                },
                {
                  "hovertemplate": "country=CO<br>latitude=%{x}<br>longitude=%{y}<extra></extra>",
                  "legendgroup": "CO",
                  "marker": {
                    "color": "#FF6692",
                    "symbol": "circle"
                  },
                  "mode": "markers",
                  "name": "CO",
                  "orientation": "v",
                  "showlegend": true,
                  "type": "scatter",
                  "x": [
                    4.570868
                  ],
                  "xaxis": "x",
                  "y": [
                    -74.297333
                  ],
                  "yaxis": "y"
                },
                {
                  "hovertemplate": "country=CR<br>latitude=%{x}<br>longitude=%{y}<extra></extra>",
                  "legendgroup": "CR",
                  "marker": {
                    "color": "#B6E880",
                    "symbol": "circle"
                  },
                  "mode": "markers",
                  "name": "CR",
                  "orientation": "v",
                  "showlegend": true,
                  "type": "scatter",
                  "x": [
                    9.748917
                  ],
                  "xaxis": "x",
                  "y": [
                    -83.753428
                  ],
                  "yaxis": "y"
                },
                {
                  "hovertemplate": "country=CU<br>latitude=%{x}<br>longitude=%{y}<extra></extra>",
                  "legendgroup": "CU",
                  "marker": {
                    "color": "#FF97FF",
                    "symbol": "circle"
                  },
                  "mode": "markers",
                  "name": "CU",
                  "orientation": "v",
                  "showlegend": true,
                  "type": "scatter",
                  "x": [
                    21.521757
                  ],
                  "xaxis": "x",
                  "y": [
                    -77.781167
                  ],
                  "yaxis": "y"
                },
                {
                  "hovertemplate": "country=CV<br>latitude=%{x}<br>longitude=%{y}<extra></extra>",
                  "legendgroup": "CV",
                  "marker": {
                    "color": "#FECB52",
                    "symbol": "circle"
                  },
                  "mode": "markers",
                  "name": "CV",
                  "orientation": "v",
                  "showlegend": true,
                  "type": "scatter",
                  "x": [
                    16.002082
                  ],
                  "xaxis": "x",
                  "y": [
                    -24.013197
                  ],
                  "yaxis": "y"
                },
                {
                  "hovertemplate": "country=CX<br>latitude=%{x}<br>longitude=%{y}<extra></extra>",
                  "legendgroup": "CX",
                  "marker": {
                    "color": "#636efa",
                    "symbol": "circle"
                  },
                  "mode": "markers",
                  "name": "CX",
                  "orientation": "v",
                  "showlegend": true,
                  "type": "scatter",
                  "x": [
                    -10.447525
                  ],
                  "xaxis": "x",
                  "y": [
                    105.690449
                  ],
                  "yaxis": "y"
                },
                {
                  "hovertemplate": "country=CY<br>latitude=%{x}<br>longitude=%{y}<extra></extra>",
                  "legendgroup": "CY",
                  "marker": {
                    "color": "#EF553B",
                    "symbol": "circle"
                  },
                  "mode": "markers",
                  "name": "CY",
                  "orientation": "v",
                  "showlegend": true,
                  "type": "scatter",
                  "x": [
                    35.126413
                  ],
                  "xaxis": "x",
                  "y": [
                    33.429859
                  ],
                  "yaxis": "y"
                },
                {
                  "hovertemplate": "country=CZ<br>latitude=%{x}<br>longitude=%{y}<extra></extra>",
                  "legendgroup": "CZ",
                  "marker": {
                    "color": "#00cc96",
                    "symbol": "circle"
                  },
                  "mode": "markers",
                  "name": "CZ",
                  "orientation": "v",
                  "showlegend": true,
                  "type": "scatter",
                  "x": [
                    49.817492
                  ],
                  "xaxis": "x",
                  "y": [
                    15.472962
                  ],
                  "yaxis": "y"
                },
                {
                  "hovertemplate": "country=DE<br>latitude=%{x}<br>longitude=%{y}<extra></extra>",
                  "legendgroup": "DE",
                  "marker": {
                    "color": "#ab63fa",
                    "symbol": "circle"
                  },
                  "mode": "markers",
                  "name": "DE",
                  "orientation": "v",
                  "showlegend": true,
                  "type": "scatter",
                  "x": [
                    51.165691
                  ],
                  "xaxis": "x",
                  "y": [
                    10.451526
                  ],
                  "yaxis": "y"
                },
                {
                  "hovertemplate": "country=DJ<br>latitude=%{x}<br>longitude=%{y}<extra></extra>",
                  "legendgroup": "DJ",
                  "marker": {
                    "color": "#FFA15A",
                    "symbol": "circle"
                  },
                  "mode": "markers",
                  "name": "DJ",
                  "orientation": "v",
                  "showlegend": true,
                  "type": "scatter",
                  "x": [
                    11.825138
                  ],
                  "xaxis": "x",
                  "y": [
                    42.590275
                  ],
                  "yaxis": "y"
                },
                {
                  "hovertemplate": "country=DK<br>latitude=%{x}<br>longitude=%{y}<extra></extra>",
                  "legendgroup": "DK",
                  "marker": {
                    "color": "#19d3f3",
                    "symbol": "circle"
                  },
                  "mode": "markers",
                  "name": "DK",
                  "orientation": "v",
                  "showlegend": true,
                  "type": "scatter",
                  "x": [
                    56.26392
                  ],
                  "xaxis": "x",
                  "y": [
                    9.501785
                  ],
                  "yaxis": "y"
                },
                {
                  "hovertemplate": "country=DM<br>latitude=%{x}<br>longitude=%{y}<extra></extra>",
                  "legendgroup": "DM",
                  "marker": {
                    "color": "#FF6692",
                    "symbol": "circle"
                  },
                  "mode": "markers",
                  "name": "DM",
                  "orientation": "v",
                  "showlegend": true,
                  "type": "scatter",
                  "x": [
                    15.414999
                  ],
                  "xaxis": "x",
                  "y": [
                    -61.370976
                  ],
                  "yaxis": "y"
                },
                {
                  "hovertemplate": "country=DO<br>latitude=%{x}<br>longitude=%{y}<extra></extra>",
                  "legendgroup": "DO",
                  "marker": {
                    "color": "#B6E880",
                    "symbol": "circle"
                  },
                  "mode": "markers",
                  "name": "DO",
                  "orientation": "v",
                  "showlegend": true,
                  "type": "scatter",
                  "x": [
                    18.735693
                  ],
                  "xaxis": "x",
                  "y": [
                    -70.162651
                  ],
                  "yaxis": "y"
                },
                {
                  "hovertemplate": "country=DZ<br>latitude=%{x}<br>longitude=%{y}<extra></extra>",
                  "legendgroup": "DZ",
                  "marker": {
                    "color": "#FF97FF",
                    "symbol": "circle"
                  },
                  "mode": "markers",
                  "name": "DZ",
                  "orientation": "v",
                  "showlegend": true,
                  "type": "scatter",
                  "x": [
                    28.033886
                  ],
                  "xaxis": "x",
                  "y": [
                    1.659626
                  ],
                  "yaxis": "y"
                },
                {
                  "hovertemplate": "country=EC<br>latitude=%{x}<br>longitude=%{y}<extra></extra>",
                  "legendgroup": "EC",
                  "marker": {
                    "color": "#FECB52",
                    "symbol": "circle"
                  },
                  "mode": "markers",
                  "name": "EC",
                  "orientation": "v",
                  "showlegend": true,
                  "type": "scatter",
                  "x": [
                    -1.831239
                  ],
                  "xaxis": "x",
                  "y": [
                    -78.183406
                  ],
                  "yaxis": "y"
                },
                {
                  "hovertemplate": "country=EE<br>latitude=%{x}<br>longitude=%{y}<extra></extra>",
                  "legendgroup": "EE",
                  "marker": {
                    "color": "#636efa",
                    "symbol": "circle"
                  },
                  "mode": "markers",
                  "name": "EE",
                  "orientation": "v",
                  "showlegend": true,
                  "type": "scatter",
                  "x": [
                    58.595272
                  ],
                  "xaxis": "x",
                  "y": [
                    25.013607
                  ],
                  "yaxis": "y"
                },
                {
                  "hovertemplate": "country=EG<br>latitude=%{x}<br>longitude=%{y}<extra></extra>",
                  "legendgroup": "EG",
                  "marker": {
                    "color": "#EF553B",
                    "symbol": "circle"
                  },
                  "mode": "markers",
                  "name": "EG",
                  "orientation": "v",
                  "showlegend": true,
                  "type": "scatter",
                  "x": [
                    26.820553
                  ],
                  "xaxis": "x",
                  "y": [
                    30.802498
                  ],
                  "yaxis": "y"
                },
                {
                  "hovertemplate": "country=EH<br>latitude=%{x}<br>longitude=%{y}<extra></extra>",
                  "legendgroup": "EH",
                  "marker": {
                    "color": "#00cc96",
                    "symbol": "circle"
                  },
                  "mode": "markers",
                  "name": "EH",
                  "orientation": "v",
                  "showlegend": true,
                  "type": "scatter",
                  "x": [
                    24.215527
                  ],
                  "xaxis": "x",
                  "y": [
                    -12.885834
                  ],
                  "yaxis": "y"
                },
                {
                  "hovertemplate": "country=ER<br>latitude=%{x}<br>longitude=%{y}<extra></extra>",
                  "legendgroup": "ER",
                  "marker": {
                    "color": "#ab63fa",
                    "symbol": "circle"
                  },
                  "mode": "markers",
                  "name": "ER",
                  "orientation": "v",
                  "showlegend": true,
                  "type": "scatter",
                  "x": [
                    15.179384
                  ],
                  "xaxis": "x",
                  "y": [
                    39.782334
                  ],
                  "yaxis": "y"
                },
                {
                  "hovertemplate": "country=ES<br>latitude=%{x}<br>longitude=%{y}<extra></extra>",
                  "legendgroup": "ES",
                  "marker": {
                    "color": "#FFA15A",
                    "symbol": "circle"
                  },
                  "mode": "markers",
                  "name": "ES",
                  "orientation": "v",
                  "showlegend": true,
                  "type": "scatter",
                  "x": [
                    40.463667
                  ],
                  "xaxis": "x",
                  "y": [
                    -3.74922
                  ],
                  "yaxis": "y"
                },
                {
                  "hovertemplate": "country=ET<br>latitude=%{x}<br>longitude=%{y}<extra></extra>",
                  "legendgroup": "ET",
                  "marker": {
                    "color": "#19d3f3",
                    "symbol": "circle"
                  },
                  "mode": "markers",
                  "name": "ET",
                  "orientation": "v",
                  "showlegend": true,
                  "type": "scatter",
                  "x": [
                    9.145
                  ],
                  "xaxis": "x",
                  "y": [
                    40.489673
                  ],
                  "yaxis": "y"
                },
                {
                  "hovertemplate": "country=FI<br>latitude=%{x}<br>longitude=%{y}<extra></extra>",
                  "legendgroup": "FI",
                  "marker": {
                    "color": "#FF6692",
                    "symbol": "circle"
                  },
                  "mode": "markers",
                  "name": "FI",
                  "orientation": "v",
                  "showlegend": true,
                  "type": "scatter",
                  "x": [
                    61.92411
                  ],
                  "xaxis": "x",
                  "y": [
                    25.748151
                  ],
                  "yaxis": "y"
                },
                {
                  "hovertemplate": "country=FJ<br>latitude=%{x}<br>longitude=%{y}<extra></extra>",
                  "legendgroup": "FJ",
                  "marker": {
                    "color": "#B6E880",
                    "symbol": "circle"
                  },
                  "mode": "markers",
                  "name": "FJ",
                  "orientation": "v",
                  "showlegend": true,
                  "type": "scatter",
                  "x": [
                    -16.578193
                  ],
                  "xaxis": "x",
                  "y": [
                    179.414413
                  ],
                  "yaxis": "y"
                },
                {
                  "hovertemplate": "country=FK<br>latitude=%{x}<br>longitude=%{y}<extra></extra>",
                  "legendgroup": "FK",
                  "marker": {
                    "color": "#FF97FF",
                    "symbol": "circle"
                  },
                  "mode": "markers",
                  "name": "FK",
                  "orientation": "v",
                  "showlegend": true,
                  "type": "scatter",
                  "x": [
                    -51.796253
                  ],
                  "xaxis": "x",
                  "y": [
                    -59.523613
                  ],
                  "yaxis": "y"
                },
                {
                  "hovertemplate": "country=FM<br>latitude=%{x}<br>longitude=%{y}<extra></extra>",
                  "legendgroup": "FM",
                  "marker": {
                    "color": "#FECB52",
                    "symbol": "circle"
                  },
                  "mode": "markers",
                  "name": "FM",
                  "orientation": "v",
                  "showlegend": true,
                  "type": "scatter",
                  "x": [
                    7.425554
                  ],
                  "xaxis": "x",
                  "y": [
                    150.550812
                  ],
                  "yaxis": "y"
                },
                {
                  "hovertemplate": "country=FO<br>latitude=%{x}<br>longitude=%{y}<extra></extra>",
                  "legendgroup": "FO",
                  "marker": {
                    "color": "#636efa",
                    "symbol": "circle"
                  },
                  "mode": "markers",
                  "name": "FO",
                  "orientation": "v",
                  "showlegend": true,
                  "type": "scatter",
                  "x": [
                    61.892635
                  ],
                  "xaxis": "x",
                  "y": [
                    -6.911806
                  ],
                  "yaxis": "y"
                },
                {
                  "hovertemplate": "country=FR<br>latitude=%{x}<br>longitude=%{y}<extra></extra>",
                  "legendgroup": "FR",
                  "marker": {
                    "color": "#EF553B",
                    "symbol": "circle"
                  },
                  "mode": "markers",
                  "name": "FR",
                  "orientation": "v",
                  "showlegend": true,
                  "type": "scatter",
                  "x": [
                    46.227638
                  ],
                  "xaxis": "x",
                  "y": [
                    2.213749
                  ],
                  "yaxis": "y"
                },
                {
                  "hovertemplate": "country=GA<br>latitude=%{x}<br>longitude=%{y}<extra></extra>",
                  "legendgroup": "GA",
                  "marker": {
                    "color": "#00cc96",
                    "symbol": "circle"
                  },
                  "mode": "markers",
                  "name": "GA",
                  "orientation": "v",
                  "showlegend": true,
                  "type": "scatter",
                  "x": [
                    -0.803689
                  ],
                  "xaxis": "x",
                  "y": [
                    11.609444
                  ],
                  "yaxis": "y"
                },
                {
                  "hovertemplate": "country=GB<br>latitude=%{x}<br>longitude=%{y}<extra></extra>",
                  "legendgroup": "GB",
                  "marker": {
                    "color": "#ab63fa",
                    "symbol": "circle"
                  },
                  "mode": "markers",
                  "name": "GB",
                  "orientation": "v",
                  "showlegend": true,
                  "type": "scatter",
                  "x": [
                    55.378051
                  ],
                  "xaxis": "x",
                  "y": [
                    -3.435973
                  ],
                  "yaxis": "y"
                },
                {
                  "hovertemplate": "country=GD<br>latitude=%{x}<br>longitude=%{y}<extra></extra>",
                  "legendgroup": "GD",
                  "marker": {
                    "color": "#FFA15A",
                    "symbol": "circle"
                  },
                  "mode": "markers",
                  "name": "GD",
                  "orientation": "v",
                  "showlegend": true,
                  "type": "scatter",
                  "x": [
                    12.262776
                  ],
                  "xaxis": "x",
                  "y": [
                    -61.604171
                  ],
                  "yaxis": "y"
                },
                {
                  "hovertemplate": "country=GE<br>latitude=%{x}<br>longitude=%{y}<extra></extra>",
                  "legendgroup": "GE",
                  "marker": {
                    "color": "#19d3f3",
                    "symbol": "circle"
                  },
                  "mode": "markers",
                  "name": "GE",
                  "orientation": "v",
                  "showlegend": true,
                  "type": "scatter",
                  "x": [
                    42.315407
                  ],
                  "xaxis": "x",
                  "y": [
                    43.356892
                  ],
                  "yaxis": "y"
                },
                {
                  "hovertemplate": "country=GF<br>latitude=%{x}<br>longitude=%{y}<extra></extra>",
                  "legendgroup": "GF",
                  "marker": {
                    "color": "#FF6692",
                    "symbol": "circle"
                  },
                  "mode": "markers",
                  "name": "GF",
                  "orientation": "v",
                  "showlegend": true,
                  "type": "scatter",
                  "x": [
                    3.933889
                  ],
                  "xaxis": "x",
                  "y": [
                    -53.125782
                  ],
                  "yaxis": "y"
                },
                {
                  "hovertemplate": "country=GG<br>latitude=%{x}<br>longitude=%{y}<extra></extra>",
                  "legendgroup": "GG",
                  "marker": {
                    "color": "#B6E880",
                    "symbol": "circle"
                  },
                  "mode": "markers",
                  "name": "GG",
                  "orientation": "v",
                  "showlegend": true,
                  "type": "scatter",
                  "x": [
                    49.465691
                  ],
                  "xaxis": "x",
                  "y": [
                    -2.585278
                  ],
                  "yaxis": "y"
                },
                {
                  "hovertemplate": "country=GH<br>latitude=%{x}<br>longitude=%{y}<extra></extra>",
                  "legendgroup": "GH",
                  "marker": {
                    "color": "#FF97FF",
                    "symbol": "circle"
                  },
                  "mode": "markers",
                  "name": "GH",
                  "orientation": "v",
                  "showlegend": true,
                  "type": "scatter",
                  "x": [
                    7.946527
                  ],
                  "xaxis": "x",
                  "y": [
                    -1.023194
                  ],
                  "yaxis": "y"
                },
                {
                  "hovertemplate": "country=GI<br>latitude=%{x}<br>longitude=%{y}<extra></extra>",
                  "legendgroup": "GI",
                  "marker": {
                    "color": "#FECB52",
                    "symbol": "circle"
                  },
                  "mode": "markers",
                  "name": "GI",
                  "orientation": "v",
                  "showlegend": true,
                  "type": "scatter",
                  "x": [
                    36.137741
                  ],
                  "xaxis": "x",
                  "y": [
                    -5.345374
                  ],
                  "yaxis": "y"
                },
                {
                  "hovertemplate": "country=GL<br>latitude=%{x}<br>longitude=%{y}<extra></extra>",
                  "legendgroup": "GL",
                  "marker": {
                    "color": "#636efa",
                    "symbol": "circle"
                  },
                  "mode": "markers",
                  "name": "GL",
                  "orientation": "v",
                  "showlegend": true,
                  "type": "scatter",
                  "x": [
                    71.706936
                  ],
                  "xaxis": "x",
                  "y": [
                    -42.604303
                  ],
                  "yaxis": "y"
                },
                {
                  "hovertemplate": "country=GM<br>latitude=%{x}<br>longitude=%{y}<extra></extra>",
                  "legendgroup": "GM",
                  "marker": {
                    "color": "#EF553B",
                    "symbol": "circle"
                  },
                  "mode": "markers",
                  "name": "GM",
                  "orientation": "v",
                  "showlegend": true,
                  "type": "scatter",
                  "x": [
                    13.443182
                  ],
                  "xaxis": "x",
                  "y": [
                    -15.310139
                  ],
                  "yaxis": "y"
                },
                {
                  "hovertemplate": "country=GN<br>latitude=%{x}<br>longitude=%{y}<extra></extra>",
                  "legendgroup": "GN",
                  "marker": {
                    "color": "#00cc96",
                    "symbol": "circle"
                  },
                  "mode": "markers",
                  "name": "GN",
                  "orientation": "v",
                  "showlegend": true,
                  "type": "scatter",
                  "x": [
                    9.945587
                  ],
                  "xaxis": "x",
                  "y": [
                    -9.696645
                  ],
                  "yaxis": "y"
                },
                {
                  "hovertemplate": "country=GP<br>latitude=%{x}<br>longitude=%{y}<extra></extra>",
                  "legendgroup": "GP",
                  "marker": {
                    "color": "#ab63fa",
                    "symbol": "circle"
                  },
                  "mode": "markers",
                  "name": "GP",
                  "orientation": "v",
                  "showlegend": true,
                  "type": "scatter",
                  "x": [
                    16.995971
                  ],
                  "xaxis": "x",
                  "y": [
                    -62.067641
                  ],
                  "yaxis": "y"
                },
                {
                  "hovertemplate": "country=GQ<br>latitude=%{x}<br>longitude=%{y}<extra></extra>",
                  "legendgroup": "GQ",
                  "marker": {
                    "color": "#FFA15A",
                    "symbol": "circle"
                  },
                  "mode": "markers",
                  "name": "GQ",
                  "orientation": "v",
                  "showlegend": true,
                  "type": "scatter",
                  "x": [
                    1.650801
                  ],
                  "xaxis": "x",
                  "y": [
                    10.267895
                  ],
                  "yaxis": "y"
                },
                {
                  "hovertemplate": "country=GR<br>latitude=%{x}<br>longitude=%{y}<extra></extra>",
                  "legendgroup": "GR",
                  "marker": {
                    "color": "#19d3f3",
                    "symbol": "circle"
                  },
                  "mode": "markers",
                  "name": "GR",
                  "orientation": "v",
                  "showlegend": true,
                  "type": "scatter",
                  "x": [
                    39.074208
                  ],
                  "xaxis": "x",
                  "y": [
                    21.824312
                  ],
                  "yaxis": "y"
                },
                {
                  "hovertemplate": "country=GS<br>latitude=%{x}<br>longitude=%{y}<extra></extra>",
                  "legendgroup": "GS",
                  "marker": {
                    "color": "#FF6692",
                    "symbol": "circle"
                  },
                  "mode": "markers",
                  "name": "GS",
                  "orientation": "v",
                  "showlegend": true,
                  "type": "scatter",
                  "x": [
                    -54.429579
                  ],
                  "xaxis": "x",
                  "y": [
                    -36.587909
                  ],
                  "yaxis": "y"
                },
                {
                  "hovertemplate": "country=GT<br>latitude=%{x}<br>longitude=%{y}<extra></extra>",
                  "legendgroup": "GT",
                  "marker": {
                    "color": "#B6E880",
                    "symbol": "circle"
                  },
                  "mode": "markers",
                  "name": "GT",
                  "orientation": "v",
                  "showlegend": true,
                  "type": "scatter",
                  "x": [
                    15.783471
                  ],
                  "xaxis": "x",
                  "y": [
                    -90.230759
                  ],
                  "yaxis": "y"
                },
                {
                  "hovertemplate": "country=GU<br>latitude=%{x}<br>longitude=%{y}<extra></extra>",
                  "legendgroup": "GU",
                  "marker": {
                    "color": "#FF97FF",
                    "symbol": "circle"
                  },
                  "mode": "markers",
                  "name": "GU",
                  "orientation": "v",
                  "showlegend": true,
                  "type": "scatter",
                  "x": [
                    13.444304
                  ],
                  "xaxis": "x",
                  "y": [
                    144.793731
                  ],
                  "yaxis": "y"
                },
                {
                  "hovertemplate": "country=GW<br>latitude=%{x}<br>longitude=%{y}<extra></extra>",
                  "legendgroup": "GW",
                  "marker": {
                    "color": "#FECB52",
                    "symbol": "circle"
                  },
                  "mode": "markers",
                  "name": "GW",
                  "orientation": "v",
                  "showlegend": true,
                  "type": "scatter",
                  "x": [
                    11.803749
                  ],
                  "xaxis": "x",
                  "y": [
                    -15.180413
                  ],
                  "yaxis": "y"
                },
                {
                  "hovertemplate": "country=GY<br>latitude=%{x}<br>longitude=%{y}<extra></extra>",
                  "legendgroup": "GY",
                  "marker": {
                    "color": "#636efa",
                    "symbol": "circle"
                  },
                  "mode": "markers",
                  "name": "GY",
                  "orientation": "v",
                  "showlegend": true,
                  "type": "scatter",
                  "x": [
                    4.860416
                  ],
                  "xaxis": "x",
                  "y": [
                    -58.93018
                  ],
                  "yaxis": "y"
                },
                {
                  "hovertemplate": "country=GZ<br>latitude=%{x}<br>longitude=%{y}<extra></extra>",
                  "legendgroup": "GZ",
                  "marker": {
                    "color": "#EF553B",
                    "symbol": "circle"
                  },
                  "mode": "markers",
                  "name": "GZ",
                  "orientation": "v",
                  "showlegend": true,
                  "type": "scatter",
                  "x": [
                    31.354676
                  ],
                  "xaxis": "x",
                  "y": [
                    34.308825
                  ],
                  "yaxis": "y"
                },
                {
                  "hovertemplate": "country=HK<br>latitude=%{x}<br>longitude=%{y}<extra></extra>",
                  "legendgroup": "HK",
                  "marker": {
                    "color": "#00cc96",
                    "symbol": "circle"
                  },
                  "mode": "markers",
                  "name": "HK",
                  "orientation": "v",
                  "showlegend": true,
                  "type": "scatter",
                  "x": [
                    22.396428
                  ],
                  "xaxis": "x",
                  "y": [
                    114.109497
                  ],
                  "yaxis": "y"
                },
                {
                  "hovertemplate": "country=HM<br>latitude=%{x}<br>longitude=%{y}<extra></extra>",
                  "legendgroup": "HM",
                  "marker": {
                    "color": "#ab63fa",
                    "symbol": "circle"
                  },
                  "mode": "markers",
                  "name": "HM",
                  "orientation": "v",
                  "showlegend": true,
                  "type": "scatter",
                  "x": [
                    -53.08181
                  ],
                  "xaxis": "x",
                  "y": [
                    73.504158
                  ],
                  "yaxis": "y"
                },
                {
                  "hovertemplate": "country=HN<br>latitude=%{x}<br>longitude=%{y}<extra></extra>",
                  "legendgroup": "HN",
                  "marker": {
                    "color": "#FFA15A",
                    "symbol": "circle"
                  },
                  "mode": "markers",
                  "name": "HN",
                  "orientation": "v",
                  "showlegend": true,
                  "type": "scatter",
                  "x": [
                    15.199999
                  ],
                  "xaxis": "x",
                  "y": [
                    -86.241905
                  ],
                  "yaxis": "y"
                },
                {
                  "hovertemplate": "country=HR<br>latitude=%{x}<br>longitude=%{y}<extra></extra>",
                  "legendgroup": "HR",
                  "marker": {
                    "color": "#19d3f3",
                    "symbol": "circle"
                  },
                  "mode": "markers",
                  "name": "HR",
                  "orientation": "v",
                  "showlegend": true,
                  "type": "scatter",
                  "x": [
                    45.1
                  ],
                  "xaxis": "x",
                  "y": [
                    15.2
                  ],
                  "yaxis": "y"
                },
                {
                  "hovertemplate": "country=HT<br>latitude=%{x}<br>longitude=%{y}<extra></extra>",
                  "legendgroup": "HT",
                  "marker": {
                    "color": "#FF6692",
                    "symbol": "circle"
                  },
                  "mode": "markers",
                  "name": "HT",
                  "orientation": "v",
                  "showlegend": true,
                  "type": "scatter",
                  "x": [
                    18.971187
                  ],
                  "xaxis": "x",
                  "y": [
                    -72.285215
                  ],
                  "yaxis": "y"
                },
                {
                  "hovertemplate": "country=HU<br>latitude=%{x}<br>longitude=%{y}<extra></extra>",
                  "legendgroup": "HU",
                  "marker": {
                    "color": "#B6E880",
                    "symbol": "circle"
                  },
                  "mode": "markers",
                  "name": "HU",
                  "orientation": "v",
                  "showlegend": true,
                  "type": "scatter",
                  "x": [
                    47.162494
                  ],
                  "xaxis": "x",
                  "y": [
                    19.503304
                  ],
                  "yaxis": "y"
                },
                {
                  "hovertemplate": "country=ID<br>latitude=%{x}<br>longitude=%{y}<extra></extra>",
                  "legendgroup": "ID",
                  "marker": {
                    "color": "#FF97FF",
                    "symbol": "circle"
                  },
                  "mode": "markers",
                  "name": "ID",
                  "orientation": "v",
                  "showlegend": true,
                  "type": "scatter",
                  "x": [
                    -0.789275
                  ],
                  "xaxis": "x",
                  "y": [
                    113.921327
                  ],
                  "yaxis": "y"
                },
                {
                  "hovertemplate": "country=IE<br>latitude=%{x}<br>longitude=%{y}<extra></extra>",
                  "legendgroup": "IE",
                  "marker": {
                    "color": "#FECB52",
                    "symbol": "circle"
                  },
                  "mode": "markers",
                  "name": "IE",
                  "orientation": "v",
                  "showlegend": true,
                  "type": "scatter",
                  "x": [
                    53.41291
                  ],
                  "xaxis": "x",
                  "y": [
                    -8.24389
                  ],
                  "yaxis": "y"
                },
                {
                  "hovertemplate": "country=IL<br>latitude=%{x}<br>longitude=%{y}<extra></extra>",
                  "legendgroup": "IL",
                  "marker": {
                    "color": "#636efa",
                    "symbol": "circle"
                  },
                  "mode": "markers",
                  "name": "IL",
                  "orientation": "v",
                  "showlegend": true,
                  "type": "scatter",
                  "x": [
                    31.046051
                  ],
                  "xaxis": "x",
                  "y": [
                    34.851612
                  ],
                  "yaxis": "y"
                },
                {
                  "hovertemplate": "country=IM<br>latitude=%{x}<br>longitude=%{y}<extra></extra>",
                  "legendgroup": "IM",
                  "marker": {
                    "color": "#EF553B",
                    "symbol": "circle"
                  },
                  "mode": "markers",
                  "name": "IM",
                  "orientation": "v",
                  "showlegend": true,
                  "type": "scatter",
                  "x": [
                    54.236107
                  ],
                  "xaxis": "x",
                  "y": [
                    -4.548056
                  ],
                  "yaxis": "y"
                },
                {
                  "hovertemplate": "country=IN<br>latitude=%{x}<br>longitude=%{y}<extra></extra>",
                  "legendgroup": "IN",
                  "marker": {
                    "color": "#00cc96",
                    "symbol": "circle"
                  },
                  "mode": "markers",
                  "name": "IN",
                  "orientation": "v",
                  "showlegend": true,
                  "type": "scatter",
                  "x": [
                    20.593684
                  ],
                  "xaxis": "x",
                  "y": [
                    78.96288
                  ],
                  "yaxis": "y"
                },
                {
                  "hovertemplate": "country=IO<br>latitude=%{x}<br>longitude=%{y}<extra></extra>",
                  "legendgroup": "IO",
                  "marker": {
                    "color": "#ab63fa",
                    "symbol": "circle"
                  },
                  "mode": "markers",
                  "name": "IO",
                  "orientation": "v",
                  "showlegend": true,
                  "type": "scatter",
                  "x": [
                    -6.343194
                  ],
                  "xaxis": "x",
                  "y": [
                    71.876519
                  ],
                  "yaxis": "y"
                },
                {
                  "hovertemplate": "country=IQ<br>latitude=%{x}<br>longitude=%{y}<extra></extra>",
                  "legendgroup": "IQ",
                  "marker": {
                    "color": "#FFA15A",
                    "symbol": "circle"
                  },
                  "mode": "markers",
                  "name": "IQ",
                  "orientation": "v",
                  "showlegend": true,
                  "type": "scatter",
                  "x": [
                    33.223191
                  ],
                  "xaxis": "x",
                  "y": [
                    43.679291
                  ],
                  "yaxis": "y"
                },
                {
                  "hovertemplate": "country=IR<br>latitude=%{x}<br>longitude=%{y}<extra></extra>",
                  "legendgroup": "IR",
                  "marker": {
                    "color": "#19d3f3",
                    "symbol": "circle"
                  },
                  "mode": "markers",
                  "name": "IR",
                  "orientation": "v",
                  "showlegend": true,
                  "type": "scatter",
                  "x": [
                    32.427908
                  ],
                  "xaxis": "x",
                  "y": [
                    53.688046
                  ],
                  "yaxis": "y"
                },
                {
                  "hovertemplate": "country=IS<br>latitude=%{x}<br>longitude=%{y}<extra></extra>",
                  "legendgroup": "IS",
                  "marker": {
                    "color": "#FF6692",
                    "symbol": "circle"
                  },
                  "mode": "markers",
                  "name": "IS",
                  "orientation": "v",
                  "showlegend": true,
                  "type": "scatter",
                  "x": [
                    64.963051
                  ],
                  "xaxis": "x",
                  "y": [
                    -19.020835
                  ],
                  "yaxis": "y"
                },
                {
                  "hovertemplate": "country=IT<br>latitude=%{x}<br>longitude=%{y}<extra></extra>",
                  "legendgroup": "IT",
                  "marker": {
                    "color": "#B6E880",
                    "symbol": "circle"
                  },
                  "mode": "markers",
                  "name": "IT",
                  "orientation": "v",
                  "showlegend": true,
                  "type": "scatter",
                  "x": [
                    41.87194
                  ],
                  "xaxis": "x",
                  "y": [
                    12.56738
                  ],
                  "yaxis": "y"
                },
                {
                  "hovertemplate": "country=JE<br>latitude=%{x}<br>longitude=%{y}<extra></extra>",
                  "legendgroup": "JE",
                  "marker": {
                    "color": "#FF97FF",
                    "symbol": "circle"
                  },
                  "mode": "markers",
                  "name": "JE",
                  "orientation": "v",
                  "showlegend": true,
                  "type": "scatter",
                  "x": [
                    49.214439
                  ],
                  "xaxis": "x",
                  "y": [
                    -2.13125
                  ],
                  "yaxis": "y"
                },
                {
                  "hovertemplate": "country=JM<br>latitude=%{x}<br>longitude=%{y}<extra></extra>",
                  "legendgroup": "JM",
                  "marker": {
                    "color": "#FECB52",
                    "symbol": "circle"
                  },
                  "mode": "markers",
                  "name": "JM",
                  "orientation": "v",
                  "showlegend": true,
                  "type": "scatter",
                  "x": [
                    18.109581
                  ],
                  "xaxis": "x",
                  "y": [
                    -77.297508
                  ],
                  "yaxis": "y"
                },
                {
                  "hovertemplate": "country=JO<br>latitude=%{x}<br>longitude=%{y}<extra></extra>",
                  "legendgroup": "JO",
                  "marker": {
                    "color": "#636efa",
                    "symbol": "circle"
                  },
                  "mode": "markers",
                  "name": "JO",
                  "orientation": "v",
                  "showlegend": true,
                  "type": "scatter",
                  "x": [
                    30.585164
                  ],
                  "xaxis": "x",
                  "y": [
                    36.238414
                  ],
                  "yaxis": "y"
                },
                {
                  "hovertemplate": "country=JP<br>latitude=%{x}<br>longitude=%{y}<extra></extra>",
                  "legendgroup": "JP",
                  "marker": {
                    "color": "#EF553B",
                    "symbol": "circle"
                  },
                  "mode": "markers",
                  "name": "JP",
                  "orientation": "v",
                  "showlegend": true,
                  "type": "scatter",
                  "x": [
                    36.204824
                  ],
                  "xaxis": "x",
                  "y": [
                    138.252924
                  ],
                  "yaxis": "y"
                },
                {
                  "hovertemplate": "country=KE<br>latitude=%{x}<br>longitude=%{y}<extra></extra>",
                  "legendgroup": "KE",
                  "marker": {
                    "color": "#00cc96",
                    "symbol": "circle"
                  },
                  "mode": "markers",
                  "name": "KE",
                  "orientation": "v",
                  "showlegend": true,
                  "type": "scatter",
                  "x": [
                    -0.023559
                  ],
                  "xaxis": "x",
                  "y": [
                    37.906193
                  ],
                  "yaxis": "y"
                },
                {
                  "hovertemplate": "country=KG<br>latitude=%{x}<br>longitude=%{y}<extra></extra>",
                  "legendgroup": "KG",
                  "marker": {
                    "color": "#ab63fa",
                    "symbol": "circle"
                  },
                  "mode": "markers",
                  "name": "KG",
                  "orientation": "v",
                  "showlegend": true,
                  "type": "scatter",
                  "x": [
                    41.20438
                  ],
                  "xaxis": "x",
                  "y": [
                    74.766098
                  ],
                  "yaxis": "y"
                },
                {
                  "hovertemplate": "country=KH<br>latitude=%{x}<br>longitude=%{y}<extra></extra>",
                  "legendgroup": "KH",
                  "marker": {
                    "color": "#FFA15A",
                    "symbol": "circle"
                  },
                  "mode": "markers",
                  "name": "KH",
                  "orientation": "v",
                  "showlegend": true,
                  "type": "scatter",
                  "x": [
                    12.565679
                  ],
                  "xaxis": "x",
                  "y": [
                    104.990963
                  ],
                  "yaxis": "y"
                },
                {
                  "hovertemplate": "country=KI<br>latitude=%{x}<br>longitude=%{y}<extra></extra>",
                  "legendgroup": "KI",
                  "marker": {
                    "color": "#19d3f3",
                    "symbol": "circle"
                  },
                  "mode": "markers",
                  "name": "KI",
                  "orientation": "v",
                  "showlegend": true,
                  "type": "scatter",
                  "x": [
                    -3.370417
                  ],
                  "xaxis": "x",
                  "y": [
                    -168.734039
                  ],
                  "yaxis": "y"
                },
                {
                  "hovertemplate": "country=KM<br>latitude=%{x}<br>longitude=%{y}<extra></extra>",
                  "legendgroup": "KM",
                  "marker": {
                    "color": "#FF6692",
                    "symbol": "circle"
                  },
                  "mode": "markers",
                  "name": "KM",
                  "orientation": "v",
                  "showlegend": true,
                  "type": "scatter",
                  "x": [
                    -11.875001
                  ],
                  "xaxis": "x",
                  "y": [
                    43.872219
                  ],
                  "yaxis": "y"
                },
                {
                  "hovertemplate": "country=KN<br>latitude=%{x}<br>longitude=%{y}<extra></extra>",
                  "legendgroup": "KN",
                  "marker": {
                    "color": "#B6E880",
                    "symbol": "circle"
                  },
                  "mode": "markers",
                  "name": "KN",
                  "orientation": "v",
                  "showlegend": true,
                  "type": "scatter",
                  "x": [
                    17.357822
                  ],
                  "xaxis": "x",
                  "y": [
                    -62.782998
                  ],
                  "yaxis": "y"
                },
                {
                  "hovertemplate": "country=KP<br>latitude=%{x}<br>longitude=%{y}<extra></extra>",
                  "legendgroup": "KP",
                  "marker": {
                    "color": "#FF97FF",
                    "symbol": "circle"
                  },
                  "mode": "markers",
                  "name": "KP",
                  "orientation": "v",
                  "showlegend": true,
                  "type": "scatter",
                  "x": [
                    40.339852
                  ],
                  "xaxis": "x",
                  "y": [
                    127.510093
                  ],
                  "yaxis": "y"
                },
                {
                  "hovertemplate": "country=KR<br>latitude=%{x}<br>longitude=%{y}<extra></extra>",
                  "legendgroup": "KR",
                  "marker": {
                    "color": "#FECB52",
                    "symbol": "circle"
                  },
                  "mode": "markers",
                  "name": "KR",
                  "orientation": "v",
                  "showlegend": true,
                  "type": "scatter",
                  "x": [
                    35.907757
                  ],
                  "xaxis": "x",
                  "y": [
                    127.766922
                  ],
                  "yaxis": "y"
                },
                {
                  "hovertemplate": "country=KW<br>latitude=%{x}<br>longitude=%{y}<extra></extra>",
                  "legendgroup": "KW",
                  "marker": {
                    "color": "#636efa",
                    "symbol": "circle"
                  },
                  "mode": "markers",
                  "name": "KW",
                  "orientation": "v",
                  "showlegend": true,
                  "type": "scatter",
                  "x": [
                    29.31166
                  ],
                  "xaxis": "x",
                  "y": [
                    47.481766
                  ],
                  "yaxis": "y"
                },
                {
                  "hovertemplate": "country=KY<br>latitude=%{x}<br>longitude=%{y}<extra></extra>",
                  "legendgroup": "KY",
                  "marker": {
                    "color": "#EF553B",
                    "symbol": "circle"
                  },
                  "mode": "markers",
                  "name": "KY",
                  "orientation": "v",
                  "showlegend": true,
                  "type": "scatter",
                  "x": [
                    19.513469
                  ],
                  "xaxis": "x",
                  "y": [
                    -80.566956
                  ],
                  "yaxis": "y"
                },
                {
                  "hovertemplate": "country=KZ<br>latitude=%{x}<br>longitude=%{y}<extra></extra>",
                  "legendgroup": "KZ",
                  "marker": {
                    "color": "#00cc96",
                    "symbol": "circle"
                  },
                  "mode": "markers",
                  "name": "KZ",
                  "orientation": "v",
                  "showlegend": true,
                  "type": "scatter",
                  "x": [
                    48.019573
                  ],
                  "xaxis": "x",
                  "y": [
                    66.923684
                  ],
                  "yaxis": "y"
                },
                {
                  "hovertemplate": "country=LA<br>latitude=%{x}<br>longitude=%{y}<extra></extra>",
                  "legendgroup": "LA",
                  "marker": {
                    "color": "#ab63fa",
                    "symbol": "circle"
                  },
                  "mode": "markers",
                  "name": "LA",
                  "orientation": "v",
                  "showlegend": true,
                  "type": "scatter",
                  "x": [
                    19.85627
                  ],
                  "xaxis": "x",
                  "y": [
                    102.495496
                  ],
                  "yaxis": "y"
                },
                {
                  "hovertemplate": "country=LB<br>latitude=%{x}<br>longitude=%{y}<extra></extra>",
                  "legendgroup": "LB",
                  "marker": {
                    "color": "#FFA15A",
                    "symbol": "circle"
                  },
                  "mode": "markers",
                  "name": "LB",
                  "orientation": "v",
                  "showlegend": true,
                  "type": "scatter",
                  "x": [
                    33.854721
                  ],
                  "xaxis": "x",
                  "y": [
                    35.862285
                  ],
                  "yaxis": "y"
                },
                {
                  "hovertemplate": "country=LC<br>latitude=%{x}<br>longitude=%{y}<extra></extra>",
                  "legendgroup": "LC",
                  "marker": {
                    "color": "#19d3f3",
                    "symbol": "circle"
                  },
                  "mode": "markers",
                  "name": "LC",
                  "orientation": "v",
                  "showlegend": true,
                  "type": "scatter",
                  "x": [
                    13.909444
                  ],
                  "xaxis": "x",
                  "y": [
                    -60.978893
                  ],
                  "yaxis": "y"
                },
                {
                  "hovertemplate": "country=LI<br>latitude=%{x}<br>longitude=%{y}<extra></extra>",
                  "legendgroup": "LI",
                  "marker": {
                    "color": "#FF6692",
                    "symbol": "circle"
                  },
                  "mode": "markers",
                  "name": "LI",
                  "orientation": "v",
                  "showlegend": true,
                  "type": "scatter",
                  "x": [
                    47.166
                  ],
                  "xaxis": "x",
                  "y": [
                    9.555373
                  ],
                  "yaxis": "y"
                },
                {
                  "hovertemplate": "country=LK<br>latitude=%{x}<br>longitude=%{y}<extra></extra>",
                  "legendgroup": "LK",
                  "marker": {
                    "color": "#B6E880",
                    "symbol": "circle"
                  },
                  "mode": "markers",
                  "name": "LK",
                  "orientation": "v",
                  "showlegend": true,
                  "type": "scatter",
                  "x": [
                    7.873054
                  ],
                  "xaxis": "x",
                  "y": [
                    80.771797
                  ],
                  "yaxis": "y"
                },
                {
                  "hovertemplate": "country=LR<br>latitude=%{x}<br>longitude=%{y}<extra></extra>",
                  "legendgroup": "LR",
                  "marker": {
                    "color": "#FF97FF",
                    "symbol": "circle"
                  },
                  "mode": "markers",
                  "name": "LR",
                  "orientation": "v",
                  "showlegend": true,
                  "type": "scatter",
                  "x": [
                    6.428055
                  ],
                  "xaxis": "x",
                  "y": [
                    -9.429499
                  ],
                  "yaxis": "y"
                },
                {
                  "hovertemplate": "country=LS<br>latitude=%{x}<br>longitude=%{y}<extra></extra>",
                  "legendgroup": "LS",
                  "marker": {
                    "color": "#FECB52",
                    "symbol": "circle"
                  },
                  "mode": "markers",
                  "name": "LS",
                  "orientation": "v",
                  "showlegend": true,
                  "type": "scatter",
                  "x": [
                    -29.609988
                  ],
                  "xaxis": "x",
                  "y": [
                    28.233608
                  ],
                  "yaxis": "y"
                },
                {
                  "hovertemplate": "country=LT<br>latitude=%{x}<br>longitude=%{y}<extra></extra>",
                  "legendgroup": "LT",
                  "marker": {
                    "color": "#636efa",
                    "symbol": "circle"
                  },
                  "mode": "markers",
                  "name": "LT",
                  "orientation": "v",
                  "showlegend": true,
                  "type": "scatter",
                  "x": [
                    55.169438
                  ],
                  "xaxis": "x",
                  "y": [
                    23.881275
                  ],
                  "yaxis": "y"
                },
                {
                  "hovertemplate": "country=LU<br>latitude=%{x}<br>longitude=%{y}<extra></extra>",
                  "legendgroup": "LU",
                  "marker": {
                    "color": "#EF553B",
                    "symbol": "circle"
                  },
                  "mode": "markers",
                  "name": "LU",
                  "orientation": "v",
                  "showlegend": true,
                  "type": "scatter",
                  "x": [
                    49.815273
                  ],
                  "xaxis": "x",
                  "y": [
                    6.129583
                  ],
                  "yaxis": "y"
                },
                {
                  "hovertemplate": "country=LV<br>latitude=%{x}<br>longitude=%{y}<extra></extra>",
                  "legendgroup": "LV",
                  "marker": {
                    "color": "#00cc96",
                    "symbol": "circle"
                  },
                  "mode": "markers",
                  "name": "LV",
                  "orientation": "v",
                  "showlegend": true,
                  "type": "scatter",
                  "x": [
                    56.879635
                  ],
                  "xaxis": "x",
                  "y": [
                    24.603189
                  ],
                  "yaxis": "y"
                },
                {
                  "hovertemplate": "country=LY<br>latitude=%{x}<br>longitude=%{y}<extra></extra>",
                  "legendgroup": "LY",
                  "marker": {
                    "color": "#ab63fa",
                    "symbol": "circle"
                  },
                  "mode": "markers",
                  "name": "LY",
                  "orientation": "v",
                  "showlegend": true,
                  "type": "scatter",
                  "x": [
                    26.3351
                  ],
                  "xaxis": "x",
                  "y": [
                    17.228331
                  ],
                  "yaxis": "y"
                },
                {
                  "hovertemplate": "country=MA<br>latitude=%{x}<br>longitude=%{y}<extra></extra>",
                  "legendgroup": "MA",
                  "marker": {
                    "color": "#FFA15A",
                    "symbol": "circle"
                  },
                  "mode": "markers",
                  "name": "MA",
                  "orientation": "v",
                  "showlegend": true,
                  "type": "scatter",
                  "x": [
                    31.791702
                  ],
                  "xaxis": "x",
                  "y": [
                    -7.09262
                  ],
                  "yaxis": "y"
                },
                {
                  "hovertemplate": "country=MC<br>latitude=%{x}<br>longitude=%{y}<extra></extra>",
                  "legendgroup": "MC",
                  "marker": {
                    "color": "#19d3f3",
                    "symbol": "circle"
                  },
                  "mode": "markers",
                  "name": "MC",
                  "orientation": "v",
                  "showlegend": true,
                  "type": "scatter",
                  "x": [
                    43.750298
                  ],
                  "xaxis": "x",
                  "y": [
                    7.412841
                  ],
                  "yaxis": "y"
                },
                {
                  "hovertemplate": "country=MD<br>latitude=%{x}<br>longitude=%{y}<extra></extra>",
                  "legendgroup": "MD",
                  "marker": {
                    "color": "#FF6692",
                    "symbol": "circle"
                  },
                  "mode": "markers",
                  "name": "MD",
                  "orientation": "v",
                  "showlegend": true,
                  "type": "scatter",
                  "x": [
                    47.411631
                  ],
                  "xaxis": "x",
                  "y": [
                    28.369885
                  ],
                  "yaxis": "y"
                },
                {
                  "hovertemplate": "country=ME<br>latitude=%{x}<br>longitude=%{y}<extra></extra>",
                  "legendgroup": "ME",
                  "marker": {
                    "color": "#B6E880",
                    "symbol": "circle"
                  },
                  "mode": "markers",
                  "name": "ME",
                  "orientation": "v",
                  "showlegend": true,
                  "type": "scatter",
                  "x": [
                    42.708678
                  ],
                  "xaxis": "x",
                  "y": [
                    19.37439
                  ],
                  "yaxis": "y"
                },
                {
                  "hovertemplate": "country=MG<br>latitude=%{x}<br>longitude=%{y}<extra></extra>",
                  "legendgroup": "MG",
                  "marker": {
                    "color": "#FF97FF",
                    "symbol": "circle"
                  },
                  "mode": "markers",
                  "name": "MG",
                  "orientation": "v",
                  "showlegend": true,
                  "type": "scatter",
                  "x": [
                    -18.766947
                  ],
                  "xaxis": "x",
                  "y": [
                    46.869107
                  ],
                  "yaxis": "y"
                },
                {
                  "hovertemplate": "country=MH<br>latitude=%{x}<br>longitude=%{y}<extra></extra>",
                  "legendgroup": "MH",
                  "marker": {
                    "color": "#FECB52",
                    "symbol": "circle"
                  },
                  "mode": "markers",
                  "name": "MH",
                  "orientation": "v",
                  "showlegend": true,
                  "type": "scatter",
                  "x": [
                    7.131474
                  ],
                  "xaxis": "x",
                  "y": [
                    171.184478
                  ],
                  "yaxis": "y"
                },
                {
                  "hovertemplate": "country=MK<br>latitude=%{x}<br>longitude=%{y}<extra></extra>",
                  "legendgroup": "MK",
                  "marker": {
                    "color": "#636efa",
                    "symbol": "circle"
                  },
                  "mode": "markers",
                  "name": "MK",
                  "orientation": "v",
                  "showlegend": true,
                  "type": "scatter",
                  "x": [
                    41.608635
                  ],
                  "xaxis": "x",
                  "y": [
                    21.745275
                  ],
                  "yaxis": "y"
                },
                {
                  "hovertemplate": "country=ML<br>latitude=%{x}<br>longitude=%{y}<extra></extra>",
                  "legendgroup": "ML",
                  "marker": {
                    "color": "#EF553B",
                    "symbol": "circle"
                  },
                  "mode": "markers",
                  "name": "ML",
                  "orientation": "v",
                  "showlegend": true,
                  "type": "scatter",
                  "x": [
                    17.570692
                  ],
                  "xaxis": "x",
                  "y": [
                    -3.996166
                  ],
                  "yaxis": "y"
                },
                {
                  "hovertemplate": "country=MM<br>latitude=%{x}<br>longitude=%{y}<extra></extra>",
                  "legendgroup": "MM",
                  "marker": {
                    "color": "#00cc96",
                    "symbol": "circle"
                  },
                  "mode": "markers",
                  "name": "MM",
                  "orientation": "v",
                  "showlegend": true,
                  "type": "scatter",
                  "x": [
                    21.913965
                  ],
                  "xaxis": "x",
                  "y": [
                    95.956223
                  ],
                  "yaxis": "y"
                },
                {
                  "hovertemplate": "country=MN<br>latitude=%{x}<br>longitude=%{y}<extra></extra>",
                  "legendgroup": "MN",
                  "marker": {
                    "color": "#ab63fa",
                    "symbol": "circle"
                  },
                  "mode": "markers",
                  "name": "MN",
                  "orientation": "v",
                  "showlegend": true,
                  "type": "scatter",
                  "x": [
                    46.862496
                  ],
                  "xaxis": "x",
                  "y": [
                    103.846656
                  ],
                  "yaxis": "y"
                },
                {
                  "hovertemplate": "country=MO<br>latitude=%{x}<br>longitude=%{y}<extra></extra>",
                  "legendgroup": "MO",
                  "marker": {
                    "color": "#FFA15A",
                    "symbol": "circle"
                  },
                  "mode": "markers",
                  "name": "MO",
                  "orientation": "v",
                  "showlegend": true,
                  "type": "scatter",
                  "x": [
                    22.198745
                  ],
                  "xaxis": "x",
                  "y": [
                    113.543873
                  ],
                  "yaxis": "y"
                },
                {
                  "hovertemplate": "country=MP<br>latitude=%{x}<br>longitude=%{y}<extra></extra>",
                  "legendgroup": "MP",
                  "marker": {
                    "color": "#19d3f3",
                    "symbol": "circle"
                  },
                  "mode": "markers",
                  "name": "MP",
                  "orientation": "v",
                  "showlegend": true,
                  "type": "scatter",
                  "x": [
                    17.33083
                  ],
                  "xaxis": "x",
                  "y": [
                    145.38469
                  ],
                  "yaxis": "y"
                },
                {
                  "hovertemplate": "country=MQ<br>latitude=%{x}<br>longitude=%{y}<extra></extra>",
                  "legendgroup": "MQ",
                  "marker": {
                    "color": "#FF6692",
                    "symbol": "circle"
                  },
                  "mode": "markers",
                  "name": "MQ",
                  "orientation": "v",
                  "showlegend": true,
                  "type": "scatter",
                  "x": [
                    14.641528
                  ],
                  "xaxis": "x",
                  "y": [
                    -61.024174
                  ],
                  "yaxis": "y"
                },
                {
                  "hovertemplate": "country=MR<br>latitude=%{x}<br>longitude=%{y}<extra></extra>",
                  "legendgroup": "MR",
                  "marker": {
                    "color": "#B6E880",
                    "symbol": "circle"
                  },
                  "mode": "markers",
                  "name": "MR",
                  "orientation": "v",
                  "showlegend": true,
                  "type": "scatter",
                  "x": [
                    21.00789
                  ],
                  "xaxis": "x",
                  "y": [
                    -10.940835
                  ],
                  "yaxis": "y"
                },
                {
                  "hovertemplate": "country=MS<br>latitude=%{x}<br>longitude=%{y}<extra></extra>",
                  "legendgroup": "MS",
                  "marker": {
                    "color": "#FF97FF",
                    "symbol": "circle"
                  },
                  "mode": "markers",
                  "name": "MS",
                  "orientation": "v",
                  "showlegend": true,
                  "type": "scatter",
                  "x": [
                    16.742498
                  ],
                  "xaxis": "x",
                  "y": [
                    -62.187366
                  ],
                  "yaxis": "y"
                },
                {
                  "hovertemplate": "country=MT<br>latitude=%{x}<br>longitude=%{y}<extra></extra>",
                  "legendgroup": "MT",
                  "marker": {
                    "color": "#FECB52",
                    "symbol": "circle"
                  },
                  "mode": "markers",
                  "name": "MT",
                  "orientation": "v",
                  "showlegend": true,
                  "type": "scatter",
                  "x": [
                    35.937496
                  ],
                  "xaxis": "x",
                  "y": [
                    14.375416
                  ],
                  "yaxis": "y"
                },
                {
                  "hovertemplate": "country=MU<br>latitude=%{x}<br>longitude=%{y}<extra></extra>",
                  "legendgroup": "MU",
                  "marker": {
                    "color": "#636efa",
                    "symbol": "circle"
                  },
                  "mode": "markers",
                  "name": "MU",
                  "orientation": "v",
                  "showlegend": true,
                  "type": "scatter",
                  "x": [
                    -20.348404
                  ],
                  "xaxis": "x",
                  "y": [
                    57.552152
                  ],
                  "yaxis": "y"
                },
                {
                  "hovertemplate": "country=MV<br>latitude=%{x}<br>longitude=%{y}<extra></extra>",
                  "legendgroup": "MV",
                  "marker": {
                    "color": "#EF553B",
                    "symbol": "circle"
                  },
                  "mode": "markers",
                  "name": "MV",
                  "orientation": "v",
                  "showlegend": true,
                  "type": "scatter",
                  "x": [
                    3.202778
                  ],
                  "xaxis": "x",
                  "y": [
                    73.22068
                  ],
                  "yaxis": "y"
                },
                {
                  "hovertemplate": "country=MW<br>latitude=%{x}<br>longitude=%{y}<extra></extra>",
                  "legendgroup": "MW",
                  "marker": {
                    "color": "#00cc96",
                    "symbol": "circle"
                  },
                  "mode": "markers",
                  "name": "MW",
                  "orientation": "v",
                  "showlegend": true,
                  "type": "scatter",
                  "x": [
                    -13.254308
                  ],
                  "xaxis": "x",
                  "y": [
                    34.301525
                  ],
                  "yaxis": "y"
                },
                {
                  "hovertemplate": "country=MX<br>latitude=%{x}<br>longitude=%{y}<extra></extra>",
                  "legendgroup": "MX",
                  "marker": {
                    "color": "#ab63fa",
                    "symbol": "circle"
                  },
                  "mode": "markers",
                  "name": "MX",
                  "orientation": "v",
                  "showlegend": true,
                  "type": "scatter",
                  "x": [
                    23.634501
                  ],
                  "xaxis": "x",
                  "y": [
                    -102.552784
                  ],
                  "yaxis": "y"
                },
                {
                  "hovertemplate": "country=MY<br>latitude=%{x}<br>longitude=%{y}<extra></extra>",
                  "legendgroup": "MY",
                  "marker": {
                    "color": "#FFA15A",
                    "symbol": "circle"
                  },
                  "mode": "markers",
                  "name": "MY",
                  "orientation": "v",
                  "showlegend": true,
                  "type": "scatter",
                  "x": [
                    4.210484
                  ],
                  "xaxis": "x",
                  "y": [
                    101.975766
                  ],
                  "yaxis": "y"
                },
                {
                  "hovertemplate": "country=MZ<br>latitude=%{x}<br>longitude=%{y}<extra></extra>",
                  "legendgroup": "MZ",
                  "marker": {
                    "color": "#19d3f3",
                    "symbol": "circle"
                  },
                  "mode": "markers",
                  "name": "MZ",
                  "orientation": "v",
                  "showlegend": true,
                  "type": "scatter",
                  "x": [
                    -18.665695
                  ],
                  "xaxis": "x",
                  "y": [
                    35.529562
                  ],
                  "yaxis": "y"
                },
                {
                  "hovertemplate": "country=NC<br>latitude=%{x}<br>longitude=%{y}<extra></extra>",
                  "legendgroup": "NC",
                  "marker": {
                    "color": "#FF6692",
                    "symbol": "circle"
                  },
                  "mode": "markers",
                  "name": "NC",
                  "orientation": "v",
                  "showlegend": true,
                  "type": "scatter",
                  "x": [
                    -20.904305
                  ],
                  "xaxis": "x",
                  "y": [
                    165.618042
                  ],
                  "yaxis": "y"
                },
                {
                  "hovertemplate": "country=NE<br>latitude=%{x}<br>longitude=%{y}<extra></extra>",
                  "legendgroup": "NE",
                  "marker": {
                    "color": "#B6E880",
                    "symbol": "circle"
                  },
                  "mode": "markers",
                  "name": "NE",
                  "orientation": "v",
                  "showlegend": true,
                  "type": "scatter",
                  "x": [
                    17.607789
                  ],
                  "xaxis": "x",
                  "y": [
                    8.081666
                  ],
                  "yaxis": "y"
                },
                {
                  "hovertemplate": "country=NF<br>latitude=%{x}<br>longitude=%{y}<extra></extra>",
                  "legendgroup": "NF",
                  "marker": {
                    "color": "#FF97FF",
                    "symbol": "circle"
                  },
                  "mode": "markers",
                  "name": "NF",
                  "orientation": "v",
                  "showlegend": true,
                  "type": "scatter",
                  "x": [
                    -29.040835
                  ],
                  "xaxis": "x",
                  "y": [
                    167.954712
                  ],
                  "yaxis": "y"
                },
                {
                  "hovertemplate": "country=NG<br>latitude=%{x}<br>longitude=%{y}<extra></extra>",
                  "legendgroup": "NG",
                  "marker": {
                    "color": "#FECB52",
                    "symbol": "circle"
                  },
                  "mode": "markers",
                  "name": "NG",
                  "orientation": "v",
                  "showlegend": true,
                  "type": "scatter",
                  "x": [
                    9.081999
                  ],
                  "xaxis": "x",
                  "y": [
                    8.675277
                  ],
                  "yaxis": "y"
                },
                {
                  "hovertemplate": "country=NI<br>latitude=%{x}<br>longitude=%{y}<extra></extra>",
                  "legendgroup": "NI",
                  "marker": {
                    "color": "#636efa",
                    "symbol": "circle"
                  },
                  "mode": "markers",
                  "name": "NI",
                  "orientation": "v",
                  "showlegend": true,
                  "type": "scatter",
                  "x": [
                    12.865416
                  ],
                  "xaxis": "x",
                  "y": [
                    -85.207229
                  ],
                  "yaxis": "y"
                },
                {
                  "hovertemplate": "country=NL<br>latitude=%{x}<br>longitude=%{y}<extra></extra>",
                  "legendgroup": "NL",
                  "marker": {
                    "color": "#EF553B",
                    "symbol": "circle"
                  },
                  "mode": "markers",
                  "name": "NL",
                  "orientation": "v",
                  "showlegend": true,
                  "type": "scatter",
                  "x": [
                    52.132633
                  ],
                  "xaxis": "x",
                  "y": [
                    5.291266
                  ],
                  "yaxis": "y"
                },
                {
                  "hovertemplate": "country=NO<br>latitude=%{x}<br>longitude=%{y}<extra></extra>",
                  "legendgroup": "NO",
                  "marker": {
                    "color": "#00cc96",
                    "symbol": "circle"
                  },
                  "mode": "markers",
                  "name": "NO",
                  "orientation": "v",
                  "showlegend": true,
                  "type": "scatter",
                  "x": [
                    60.472024
                  ],
                  "xaxis": "x",
                  "y": [
                    8.468946
                  ],
                  "yaxis": "y"
                },
                {
                  "hovertemplate": "country=NP<br>latitude=%{x}<br>longitude=%{y}<extra></extra>",
                  "legendgroup": "NP",
                  "marker": {
                    "color": "#ab63fa",
                    "symbol": "circle"
                  },
                  "mode": "markers",
                  "name": "NP",
                  "orientation": "v",
                  "showlegend": true,
                  "type": "scatter",
                  "x": [
                    28.394857
                  ],
                  "xaxis": "x",
                  "y": [
                    84.124008
                  ],
                  "yaxis": "y"
                },
                {
                  "hovertemplate": "country=NR<br>latitude=%{x}<br>longitude=%{y}<extra></extra>",
                  "legendgroup": "NR",
                  "marker": {
                    "color": "#FFA15A",
                    "symbol": "circle"
                  },
                  "mode": "markers",
                  "name": "NR",
                  "orientation": "v",
                  "showlegend": true,
                  "type": "scatter",
                  "x": [
                    -0.522778
                  ],
                  "xaxis": "x",
                  "y": [
                    166.931503
                  ],
                  "yaxis": "y"
                },
                {
                  "hovertemplate": "country=NU<br>latitude=%{x}<br>longitude=%{y}<extra></extra>",
                  "legendgroup": "NU",
                  "marker": {
                    "color": "#19d3f3",
                    "symbol": "circle"
                  },
                  "mode": "markers",
                  "name": "NU",
                  "orientation": "v",
                  "showlegend": true,
                  "type": "scatter",
                  "x": [
                    -19.054445
                  ],
                  "xaxis": "x",
                  "y": [
                    -169.867233
                  ],
                  "yaxis": "y"
                },
                {
                  "hovertemplate": "country=NZ<br>latitude=%{x}<br>longitude=%{y}<extra></extra>",
                  "legendgroup": "NZ",
                  "marker": {
                    "color": "#FF6692",
                    "symbol": "circle"
                  },
                  "mode": "markers",
                  "name": "NZ",
                  "orientation": "v",
                  "showlegend": true,
                  "type": "scatter",
                  "x": [
                    -40.900557
                  ],
                  "xaxis": "x",
                  "y": [
                    174.885971
                  ],
                  "yaxis": "y"
                },
                {
                  "hovertemplate": "country=OM<br>latitude=%{x}<br>longitude=%{y}<extra></extra>",
                  "legendgroup": "OM",
                  "marker": {
                    "color": "#B6E880",
                    "symbol": "circle"
                  },
                  "mode": "markers",
                  "name": "OM",
                  "orientation": "v",
                  "showlegend": true,
                  "type": "scatter",
                  "x": [
                    21.512583
                  ],
                  "xaxis": "x",
                  "y": [
                    55.923255
                  ],
                  "yaxis": "y"
                },
                {
                  "hovertemplate": "country=PA<br>latitude=%{x}<br>longitude=%{y}<extra></extra>",
                  "legendgroup": "PA",
                  "marker": {
                    "color": "#FF97FF",
                    "symbol": "circle"
                  },
                  "mode": "markers",
                  "name": "PA",
                  "orientation": "v",
                  "showlegend": true,
                  "type": "scatter",
                  "x": [
                    8.537981
                  ],
                  "xaxis": "x",
                  "y": [
                    -80.782127
                  ],
                  "yaxis": "y"
                },
                {
                  "hovertemplate": "country=PE<br>latitude=%{x}<br>longitude=%{y}<extra></extra>",
                  "legendgroup": "PE",
                  "marker": {
                    "color": "#FECB52",
                    "symbol": "circle"
                  },
                  "mode": "markers",
                  "name": "PE",
                  "orientation": "v",
                  "showlegend": true,
                  "type": "scatter",
                  "x": [
                    -9.189967
                  ],
                  "xaxis": "x",
                  "y": [
                    -75.015152
                  ],
                  "yaxis": "y"
                },
                {
                  "hovertemplate": "country=PF<br>latitude=%{x}<br>longitude=%{y}<extra></extra>",
                  "legendgroup": "PF",
                  "marker": {
                    "color": "#636efa",
                    "symbol": "circle"
                  },
                  "mode": "markers",
                  "name": "PF",
                  "orientation": "v",
                  "showlegend": true,
                  "type": "scatter",
                  "x": [
                    -17.679742
                  ],
                  "xaxis": "x",
                  "y": [
                    -149.406843
                  ],
                  "yaxis": "y"
                },
                {
                  "hovertemplate": "country=PG<br>latitude=%{x}<br>longitude=%{y}<extra></extra>",
                  "legendgroup": "PG",
                  "marker": {
                    "color": "#EF553B",
                    "symbol": "circle"
                  },
                  "mode": "markers",
                  "name": "PG",
                  "orientation": "v",
                  "showlegend": true,
                  "type": "scatter",
                  "x": [
                    -6.314993
                  ],
                  "xaxis": "x",
                  "y": [
                    143.95555
                  ],
                  "yaxis": "y"
                },
                {
                  "hovertemplate": "country=PH<br>latitude=%{x}<br>longitude=%{y}<extra></extra>",
                  "legendgroup": "PH",
                  "marker": {
                    "color": "#00cc96",
                    "symbol": "circle"
                  },
                  "mode": "markers",
                  "name": "PH",
                  "orientation": "v",
                  "showlegend": true,
                  "type": "scatter",
                  "x": [
                    12.879721
                  ],
                  "xaxis": "x",
                  "y": [
                    121.774017
                  ],
                  "yaxis": "y"
                },
                {
                  "hovertemplate": "country=PK<br>latitude=%{x}<br>longitude=%{y}<extra></extra>",
                  "legendgroup": "PK",
                  "marker": {
                    "color": "#ab63fa",
                    "symbol": "circle"
                  },
                  "mode": "markers",
                  "name": "PK",
                  "orientation": "v",
                  "showlegend": true,
                  "type": "scatter",
                  "x": [
                    30.375321
                  ],
                  "xaxis": "x",
                  "y": [
                    69.345116
                  ],
                  "yaxis": "y"
                },
                {
                  "hovertemplate": "country=PL<br>latitude=%{x}<br>longitude=%{y}<extra></extra>",
                  "legendgroup": "PL",
                  "marker": {
                    "color": "#FFA15A",
                    "symbol": "circle"
                  },
                  "mode": "markers",
                  "name": "PL",
                  "orientation": "v",
                  "showlegend": true,
                  "type": "scatter",
                  "x": [
                    51.919438
                  ],
                  "xaxis": "x",
                  "y": [
                    19.145136
                  ],
                  "yaxis": "y"
                },
                {
                  "hovertemplate": "country=PM<br>latitude=%{x}<br>longitude=%{y}<extra></extra>",
                  "legendgroup": "PM",
                  "marker": {
                    "color": "#19d3f3",
                    "symbol": "circle"
                  },
                  "mode": "markers",
                  "name": "PM",
                  "orientation": "v",
                  "showlegend": true,
                  "type": "scatter",
                  "x": [
                    46.941936
                  ],
                  "xaxis": "x",
                  "y": [
                    -56.27111
                  ],
                  "yaxis": "y"
                },
                {
                  "hovertemplate": "country=PN<br>latitude=%{x}<br>longitude=%{y}<extra></extra>",
                  "legendgroup": "PN",
                  "marker": {
                    "color": "#FF6692",
                    "symbol": "circle"
                  },
                  "mode": "markers",
                  "name": "PN",
                  "orientation": "v",
                  "showlegend": true,
                  "type": "scatter",
                  "x": [
                    -24.703615
                  ],
                  "xaxis": "x",
                  "y": [
                    -127.439308
                  ],
                  "yaxis": "y"
                },
                {
                  "hovertemplate": "country=PR<br>latitude=%{x}<br>longitude=%{y}<extra></extra>",
                  "legendgroup": "PR",
                  "marker": {
                    "color": "#B6E880",
                    "symbol": "circle"
                  },
                  "mode": "markers",
                  "name": "PR",
                  "orientation": "v",
                  "showlegend": true,
                  "type": "scatter",
                  "x": [
                    18.220833
                  ],
                  "xaxis": "x",
                  "y": [
                    -66.590149
                  ],
                  "yaxis": "y"
                },
                {
                  "hovertemplate": "country=PS<br>latitude=%{x}<br>longitude=%{y}<extra></extra>",
                  "legendgroup": "PS",
                  "marker": {
                    "color": "#FF97FF",
                    "symbol": "circle"
                  },
                  "mode": "markers",
                  "name": "PS",
                  "orientation": "v",
                  "showlegend": true,
                  "type": "scatter",
                  "x": [
                    31.952162
                  ],
                  "xaxis": "x",
                  "y": [
                    35.233154
                  ],
                  "yaxis": "y"
                },
                {
                  "hovertemplate": "country=PT<br>latitude=%{x}<br>longitude=%{y}<extra></extra>",
                  "legendgroup": "PT",
                  "marker": {
                    "color": "#FECB52",
                    "symbol": "circle"
                  },
                  "mode": "markers",
                  "name": "PT",
                  "orientation": "v",
                  "showlegend": true,
                  "type": "scatter",
                  "x": [
                    39.399872
                  ],
                  "xaxis": "x",
                  "y": [
                    -8.224454
                  ],
                  "yaxis": "y"
                },
                {
                  "hovertemplate": "country=PW<br>latitude=%{x}<br>longitude=%{y}<extra></extra>",
                  "legendgroup": "PW",
                  "marker": {
                    "color": "#636efa",
                    "symbol": "circle"
                  },
                  "mode": "markers",
                  "name": "PW",
                  "orientation": "v",
                  "showlegend": true,
                  "type": "scatter",
                  "x": [
                    7.51498
                  ],
                  "xaxis": "x",
                  "y": [
                    134.58252
                  ],
                  "yaxis": "y"
                },
                {
                  "hovertemplate": "country=PY<br>latitude=%{x}<br>longitude=%{y}<extra></extra>",
                  "legendgroup": "PY",
                  "marker": {
                    "color": "#EF553B",
                    "symbol": "circle"
                  },
                  "mode": "markers",
                  "name": "PY",
                  "orientation": "v",
                  "showlegend": true,
                  "type": "scatter",
                  "x": [
                    -23.442503
                  ],
                  "xaxis": "x",
                  "y": [
                    -58.443832
                  ],
                  "yaxis": "y"
                },
                {
                  "hovertemplate": "country=QA<br>latitude=%{x}<br>longitude=%{y}<extra></extra>",
                  "legendgroup": "QA",
                  "marker": {
                    "color": "#00cc96",
                    "symbol": "circle"
                  },
                  "mode": "markers",
                  "name": "QA",
                  "orientation": "v",
                  "showlegend": true,
                  "type": "scatter",
                  "x": [
                    25.354826
                  ],
                  "xaxis": "x",
                  "y": [
                    51.183884
                  ],
                  "yaxis": "y"
                },
                {
                  "hovertemplate": "country=RE<br>latitude=%{x}<br>longitude=%{y}<extra></extra>",
                  "legendgroup": "RE",
                  "marker": {
                    "color": "#ab63fa",
                    "symbol": "circle"
                  },
                  "mode": "markers",
                  "name": "RE",
                  "orientation": "v",
                  "showlegend": true,
                  "type": "scatter",
                  "x": [
                    -21.115141
                  ],
                  "xaxis": "x",
                  "y": [
                    55.536384
                  ],
                  "yaxis": "y"
                },
                {
                  "hovertemplate": "country=RO<br>latitude=%{x}<br>longitude=%{y}<extra></extra>",
                  "legendgroup": "RO",
                  "marker": {
                    "color": "#FFA15A",
                    "symbol": "circle"
                  },
                  "mode": "markers",
                  "name": "RO",
                  "orientation": "v",
                  "showlegend": true,
                  "type": "scatter",
                  "x": [
                    45.943161
                  ],
                  "xaxis": "x",
                  "y": [
                    24.96676
                  ],
                  "yaxis": "y"
                },
                {
                  "hovertemplate": "country=RS<br>latitude=%{x}<br>longitude=%{y}<extra></extra>",
                  "legendgroup": "RS",
                  "marker": {
                    "color": "#19d3f3",
                    "symbol": "circle"
                  },
                  "mode": "markers",
                  "name": "RS",
                  "orientation": "v",
                  "showlegend": true,
                  "type": "scatter",
                  "x": [
                    44.016521
                  ],
                  "xaxis": "x",
                  "y": [
                    21.005859
                  ],
                  "yaxis": "y"
                },
                {
                  "hovertemplate": "country=RU<br>latitude=%{x}<br>longitude=%{y}<extra></extra>",
                  "legendgroup": "RU",
                  "marker": {
                    "color": "#FF6692",
                    "symbol": "circle"
                  },
                  "mode": "markers",
                  "name": "RU",
                  "orientation": "v",
                  "showlegend": true,
                  "type": "scatter",
                  "x": [
                    61.52401
                  ],
                  "xaxis": "x",
                  "y": [
                    105.318756
                  ],
                  "yaxis": "y"
                },
                {
                  "hovertemplate": "country=RW<br>latitude=%{x}<br>longitude=%{y}<extra></extra>",
                  "legendgroup": "RW",
                  "marker": {
                    "color": "#B6E880",
                    "symbol": "circle"
                  },
                  "mode": "markers",
                  "name": "RW",
                  "orientation": "v",
                  "showlegend": true,
                  "type": "scatter",
                  "x": [
                    -1.940278
                  ],
                  "xaxis": "x",
                  "y": [
                    29.873888
                  ],
                  "yaxis": "y"
                },
                {
                  "hovertemplate": "country=SA<br>latitude=%{x}<br>longitude=%{y}<extra></extra>",
                  "legendgroup": "SA",
                  "marker": {
                    "color": "#FF97FF",
                    "symbol": "circle"
                  },
                  "mode": "markers",
                  "name": "SA",
                  "orientation": "v",
                  "showlegend": true,
                  "type": "scatter",
                  "x": [
                    23.885942
                  ],
                  "xaxis": "x",
                  "y": [
                    45.079162
                  ],
                  "yaxis": "y"
                },
                {
                  "hovertemplate": "country=SB<br>latitude=%{x}<br>longitude=%{y}<extra></extra>",
                  "legendgroup": "SB",
                  "marker": {
                    "color": "#FECB52",
                    "symbol": "circle"
                  },
                  "mode": "markers",
                  "name": "SB",
                  "orientation": "v",
                  "showlegend": true,
                  "type": "scatter",
                  "x": [
                    -9.64571
                  ],
                  "xaxis": "x",
                  "y": [
                    160.156194
                  ],
                  "yaxis": "y"
                },
                {
                  "hovertemplate": "country=SC<br>latitude=%{x}<br>longitude=%{y}<extra></extra>",
                  "legendgroup": "SC",
                  "marker": {
                    "color": "#636efa",
                    "symbol": "circle"
                  },
                  "mode": "markers",
                  "name": "SC",
                  "orientation": "v",
                  "showlegend": true,
                  "type": "scatter",
                  "x": [
                    -4.679574
                  ],
                  "xaxis": "x",
                  "y": [
                    55.491977
                  ],
                  "yaxis": "y"
                },
                {
                  "hovertemplate": "country=SD<br>latitude=%{x}<br>longitude=%{y}<extra></extra>",
                  "legendgroup": "SD",
                  "marker": {
                    "color": "#EF553B",
                    "symbol": "circle"
                  },
                  "mode": "markers",
                  "name": "SD",
                  "orientation": "v",
                  "showlegend": true,
                  "type": "scatter",
                  "x": [
                    12.862807
                  ],
                  "xaxis": "x",
                  "y": [
                    30.217636
                  ],
                  "yaxis": "y"
                },
                {
                  "hovertemplate": "country=SE<br>latitude=%{x}<br>longitude=%{y}<extra></extra>",
                  "legendgroup": "SE",
                  "marker": {
                    "color": "#00cc96",
                    "symbol": "circle"
                  },
                  "mode": "markers",
                  "name": "SE",
                  "orientation": "v",
                  "showlegend": true,
                  "type": "scatter",
                  "x": [
                    60.128161
                  ],
                  "xaxis": "x",
                  "y": [
                    18.643501
                  ],
                  "yaxis": "y"
                },
                {
                  "hovertemplate": "country=SG<br>latitude=%{x}<br>longitude=%{y}<extra></extra>",
                  "legendgroup": "SG",
                  "marker": {
                    "color": "#ab63fa",
                    "symbol": "circle"
                  },
                  "mode": "markers",
                  "name": "SG",
                  "orientation": "v",
                  "showlegend": true,
                  "type": "scatter",
                  "x": [
                    1.352083
                  ],
                  "xaxis": "x",
                  "y": [
                    103.819836
                  ],
                  "yaxis": "y"
                },
                {
                  "hovertemplate": "country=SH<br>latitude=%{x}<br>longitude=%{y}<extra></extra>",
                  "legendgroup": "SH",
                  "marker": {
                    "color": "#FFA15A",
                    "symbol": "circle"
                  },
                  "mode": "markers",
                  "name": "SH",
                  "orientation": "v",
                  "showlegend": true,
                  "type": "scatter",
                  "x": [
                    -24.143474
                  ],
                  "xaxis": "x",
                  "y": [
                    -10.030696
                  ],
                  "yaxis": "y"
                },
                {
                  "hovertemplate": "country=SI<br>latitude=%{x}<br>longitude=%{y}<extra></extra>",
                  "legendgroup": "SI",
                  "marker": {
                    "color": "#19d3f3",
                    "symbol": "circle"
                  },
                  "mode": "markers",
                  "name": "SI",
                  "orientation": "v",
                  "showlegend": true,
                  "type": "scatter",
                  "x": [
                    46.151241
                  ],
                  "xaxis": "x",
                  "y": [
                    14.995463
                  ],
                  "yaxis": "y"
                },
                {
                  "hovertemplate": "country=SJ<br>latitude=%{x}<br>longitude=%{y}<extra></extra>",
                  "legendgroup": "SJ",
                  "marker": {
                    "color": "#FF6692",
                    "symbol": "circle"
                  },
                  "mode": "markers",
                  "name": "SJ",
                  "orientation": "v",
                  "showlegend": true,
                  "type": "scatter",
                  "x": [
                    77.553604
                  ],
                  "xaxis": "x",
                  "y": [
                    23.670272
                  ],
                  "yaxis": "y"
                },
                {
                  "hovertemplate": "country=SK<br>latitude=%{x}<br>longitude=%{y}<extra></extra>",
                  "legendgroup": "SK",
                  "marker": {
                    "color": "#B6E880",
                    "symbol": "circle"
                  },
                  "mode": "markers",
                  "name": "SK",
                  "orientation": "v",
                  "showlegend": true,
                  "type": "scatter",
                  "x": [
                    48.669026
                  ],
                  "xaxis": "x",
                  "y": [
                    19.699024
                  ],
                  "yaxis": "y"
                },
                {
                  "hovertemplate": "country=SL<br>latitude=%{x}<br>longitude=%{y}<extra></extra>",
                  "legendgroup": "SL",
                  "marker": {
                    "color": "#FF97FF",
                    "symbol": "circle"
                  },
                  "mode": "markers",
                  "name": "SL",
                  "orientation": "v",
                  "showlegend": true,
                  "type": "scatter",
                  "x": [
                    8.460555
                  ],
                  "xaxis": "x",
                  "y": [
                    -11.779889
                  ],
                  "yaxis": "y"
                },
                {
                  "hovertemplate": "country=SM<br>latitude=%{x}<br>longitude=%{y}<extra></extra>",
                  "legendgroup": "SM",
                  "marker": {
                    "color": "#FECB52",
                    "symbol": "circle"
                  },
                  "mode": "markers",
                  "name": "SM",
                  "orientation": "v",
                  "showlegend": true,
                  "type": "scatter",
                  "x": [
                    43.94236
                  ],
                  "xaxis": "x",
                  "y": [
                    12.457777
                  ],
                  "yaxis": "y"
                },
                {
                  "hovertemplate": "country=SN<br>latitude=%{x}<br>longitude=%{y}<extra></extra>",
                  "legendgroup": "SN",
                  "marker": {
                    "color": "#636efa",
                    "symbol": "circle"
                  },
                  "mode": "markers",
                  "name": "SN",
                  "orientation": "v",
                  "showlegend": true,
                  "type": "scatter",
                  "x": [
                    14.497401
                  ],
                  "xaxis": "x",
                  "y": [
                    -14.452362
                  ],
                  "yaxis": "y"
                },
                {
                  "hovertemplate": "country=SO<br>latitude=%{x}<br>longitude=%{y}<extra></extra>",
                  "legendgroup": "SO",
                  "marker": {
                    "color": "#EF553B",
                    "symbol": "circle"
                  },
                  "mode": "markers",
                  "name": "SO",
                  "orientation": "v",
                  "showlegend": true,
                  "type": "scatter",
                  "x": [
                    5.152149
                  ],
                  "xaxis": "x",
                  "y": [
                    46.199616
                  ],
                  "yaxis": "y"
                },
                {
                  "hovertemplate": "country=SR<br>latitude=%{x}<br>longitude=%{y}<extra></extra>",
                  "legendgroup": "SR",
                  "marker": {
                    "color": "#00cc96",
                    "symbol": "circle"
                  },
                  "mode": "markers",
                  "name": "SR",
                  "orientation": "v",
                  "showlegend": true,
                  "type": "scatter",
                  "x": [
                    3.919305
                  ],
                  "xaxis": "x",
                  "y": [
                    -56.027783
                  ],
                  "yaxis": "y"
                },
                {
                  "hovertemplate": "country=ST<br>latitude=%{x}<br>longitude=%{y}<extra></extra>",
                  "legendgroup": "ST",
                  "marker": {
                    "color": "#ab63fa",
                    "symbol": "circle"
                  },
                  "mode": "markers",
                  "name": "ST",
                  "orientation": "v",
                  "showlegend": true,
                  "type": "scatter",
                  "x": [
                    0.18636
                  ],
                  "xaxis": "x",
                  "y": [
                    6.613081
                  ],
                  "yaxis": "y"
                },
                {
                  "hovertemplate": "country=SV<br>latitude=%{x}<br>longitude=%{y}<extra></extra>",
                  "legendgroup": "SV",
                  "marker": {
                    "color": "#FFA15A",
                    "symbol": "circle"
                  },
                  "mode": "markers",
                  "name": "SV",
                  "orientation": "v",
                  "showlegend": true,
                  "type": "scatter",
                  "x": [
                    13.794185
                  ],
                  "xaxis": "x",
                  "y": [
                    -88.89653
                  ],
                  "yaxis": "y"
                },
                {
                  "hovertemplate": "country=SY<br>latitude=%{x}<br>longitude=%{y}<extra></extra>",
                  "legendgroup": "SY",
                  "marker": {
                    "color": "#19d3f3",
                    "symbol": "circle"
                  },
                  "mode": "markers",
                  "name": "SY",
                  "orientation": "v",
                  "showlegend": true,
                  "type": "scatter",
                  "x": [
                    34.802075
                  ],
                  "xaxis": "x",
                  "y": [
                    38.996815
                  ],
                  "yaxis": "y"
                },
                {
                  "hovertemplate": "country=SZ<br>latitude=%{x}<br>longitude=%{y}<extra></extra>",
                  "legendgroup": "SZ",
                  "marker": {
                    "color": "#FF6692",
                    "symbol": "circle"
                  },
                  "mode": "markers",
                  "name": "SZ",
                  "orientation": "v",
                  "showlegend": true,
                  "type": "scatter",
                  "x": [
                    -26.522503
                  ],
                  "xaxis": "x",
                  "y": [
                    31.465866
                  ],
                  "yaxis": "y"
                },
                {
                  "hovertemplate": "country=TC<br>latitude=%{x}<br>longitude=%{y}<extra></extra>",
                  "legendgroup": "TC",
                  "marker": {
                    "color": "#B6E880",
                    "symbol": "circle"
                  },
                  "mode": "markers",
                  "name": "TC",
                  "orientation": "v",
                  "showlegend": true,
                  "type": "scatter",
                  "x": [
                    21.694025
                  ],
                  "xaxis": "x",
                  "y": [
                    -71.797928
                  ],
                  "yaxis": "y"
                },
                {
                  "hovertemplate": "country=TD<br>latitude=%{x}<br>longitude=%{y}<extra></extra>",
                  "legendgroup": "TD",
                  "marker": {
                    "color": "#FF97FF",
                    "symbol": "circle"
                  },
                  "mode": "markers",
                  "name": "TD",
                  "orientation": "v",
                  "showlegend": true,
                  "type": "scatter",
                  "x": [
                    15.454166
                  ],
                  "xaxis": "x",
                  "y": [
                    18.732207
                  ],
                  "yaxis": "y"
                },
                {
                  "hovertemplate": "country=TF<br>latitude=%{x}<br>longitude=%{y}<extra></extra>",
                  "legendgroup": "TF",
                  "marker": {
                    "color": "#FECB52",
                    "symbol": "circle"
                  },
                  "mode": "markers",
                  "name": "TF",
                  "orientation": "v",
                  "showlegend": true,
                  "type": "scatter",
                  "x": [
                    -49.280366
                  ],
                  "xaxis": "x",
                  "y": [
                    69.348557
                  ],
                  "yaxis": "y"
                },
                {
                  "hovertemplate": "country=TG<br>latitude=%{x}<br>longitude=%{y}<extra></extra>",
                  "legendgroup": "TG",
                  "marker": {
                    "color": "#636efa",
                    "symbol": "circle"
                  },
                  "mode": "markers",
                  "name": "TG",
                  "orientation": "v",
                  "showlegend": true,
                  "type": "scatter",
                  "x": [
                    8.619543
                  ],
                  "xaxis": "x",
                  "y": [
                    0.824782
                  ],
                  "yaxis": "y"
                },
                {
                  "hovertemplate": "country=TH<br>latitude=%{x}<br>longitude=%{y}<extra></extra>",
                  "legendgroup": "TH",
                  "marker": {
                    "color": "#EF553B",
                    "symbol": "circle"
                  },
                  "mode": "markers",
                  "name": "TH",
                  "orientation": "v",
                  "showlegend": true,
                  "type": "scatter",
                  "x": [
                    15.870032
                  ],
                  "xaxis": "x",
                  "y": [
                    100.992541
                  ],
                  "yaxis": "y"
                },
                {
                  "hovertemplate": "country=TJ<br>latitude=%{x}<br>longitude=%{y}<extra></extra>",
                  "legendgroup": "TJ",
                  "marker": {
                    "color": "#00cc96",
                    "symbol": "circle"
                  },
                  "mode": "markers",
                  "name": "TJ",
                  "orientation": "v",
                  "showlegend": true,
                  "type": "scatter",
                  "x": [
                    38.861034
                  ],
                  "xaxis": "x",
                  "y": [
                    71.276093
                  ],
                  "yaxis": "y"
                },
                {
                  "hovertemplate": "country=TK<br>latitude=%{x}<br>longitude=%{y}<extra></extra>",
                  "legendgroup": "TK",
                  "marker": {
                    "color": "#ab63fa",
                    "symbol": "circle"
                  },
                  "mode": "markers",
                  "name": "TK",
                  "orientation": "v",
                  "showlegend": true,
                  "type": "scatter",
                  "x": [
                    -8.967363
                  ],
                  "xaxis": "x",
                  "y": [
                    -171.855881
                  ],
                  "yaxis": "y"
                },
                {
                  "hovertemplate": "country=TL<br>latitude=%{x}<br>longitude=%{y}<extra></extra>",
                  "legendgroup": "TL",
                  "marker": {
                    "color": "#FFA15A",
                    "symbol": "circle"
                  },
                  "mode": "markers",
                  "name": "TL",
                  "orientation": "v",
                  "showlegend": true,
                  "type": "scatter",
                  "x": [
                    -8.874217
                  ],
                  "xaxis": "x",
                  "y": [
                    125.727539
                  ],
                  "yaxis": "y"
                },
                {
                  "hovertemplate": "country=TM<br>latitude=%{x}<br>longitude=%{y}<extra></extra>",
                  "legendgroup": "TM",
                  "marker": {
                    "color": "#19d3f3",
                    "symbol": "circle"
                  },
                  "mode": "markers",
                  "name": "TM",
                  "orientation": "v",
                  "showlegend": true,
                  "type": "scatter",
                  "x": [
                    38.969719
                  ],
                  "xaxis": "x",
                  "y": [
                    59.556278
                  ],
                  "yaxis": "y"
                },
                {
                  "hovertemplate": "country=TN<br>latitude=%{x}<br>longitude=%{y}<extra></extra>",
                  "legendgroup": "TN",
                  "marker": {
                    "color": "#FF6692",
                    "symbol": "circle"
                  },
                  "mode": "markers",
                  "name": "TN",
                  "orientation": "v",
                  "showlegend": true,
                  "type": "scatter",
                  "x": [
                    33.886917
                  ],
                  "xaxis": "x",
                  "y": [
                    9.537499
                  ],
                  "yaxis": "y"
                },
                {
                  "hovertemplate": "country=TO<br>latitude=%{x}<br>longitude=%{y}<extra></extra>",
                  "legendgroup": "TO",
                  "marker": {
                    "color": "#B6E880",
                    "symbol": "circle"
                  },
                  "mode": "markers",
                  "name": "TO",
                  "orientation": "v",
                  "showlegend": true,
                  "type": "scatter",
                  "x": [
                    -21.178986
                  ],
                  "xaxis": "x",
                  "y": [
                    -175.198242
                  ],
                  "yaxis": "y"
                },
                {
                  "hovertemplate": "country=TR<br>latitude=%{x}<br>longitude=%{y}<extra></extra>",
                  "legendgroup": "TR",
                  "marker": {
                    "color": "#FF97FF",
                    "symbol": "circle"
                  },
                  "mode": "markers",
                  "name": "TR",
                  "orientation": "v",
                  "showlegend": true,
                  "type": "scatter",
                  "x": [
                    38.963745
                  ],
                  "xaxis": "x",
                  "y": [
                    35.243322
                  ],
                  "yaxis": "y"
                },
                {
                  "hovertemplate": "country=TT<br>latitude=%{x}<br>longitude=%{y}<extra></extra>",
                  "legendgroup": "TT",
                  "marker": {
                    "color": "#FECB52",
                    "symbol": "circle"
                  },
                  "mode": "markers",
                  "name": "TT",
                  "orientation": "v",
                  "showlegend": true,
                  "type": "scatter",
                  "x": [
                    10.691803
                  ],
                  "xaxis": "x",
                  "y": [
                    -61.222503
                  ],
                  "yaxis": "y"
                },
                {
                  "hovertemplate": "country=TV<br>latitude=%{x}<br>longitude=%{y}<extra></extra>",
                  "legendgroup": "TV",
                  "marker": {
                    "color": "#636efa",
                    "symbol": "circle"
                  },
                  "mode": "markers",
                  "name": "TV",
                  "orientation": "v",
                  "showlegend": true,
                  "type": "scatter",
                  "x": [
                    -7.109535
                  ],
                  "xaxis": "x",
                  "y": [
                    177.64933
                  ],
                  "yaxis": "y"
                },
                {
                  "hovertemplate": "country=TW<br>latitude=%{x}<br>longitude=%{y}<extra></extra>",
                  "legendgroup": "TW",
                  "marker": {
                    "color": "#EF553B",
                    "symbol": "circle"
                  },
                  "mode": "markers",
                  "name": "TW",
                  "orientation": "v",
                  "showlegend": true,
                  "type": "scatter",
                  "x": [
                    23.69781
                  ],
                  "xaxis": "x",
                  "y": [
                    120.960515
                  ],
                  "yaxis": "y"
                },
                {
                  "hovertemplate": "country=TZ<br>latitude=%{x}<br>longitude=%{y}<extra></extra>",
                  "legendgroup": "TZ",
                  "marker": {
                    "color": "#00cc96",
                    "symbol": "circle"
                  },
                  "mode": "markers",
                  "name": "TZ",
                  "orientation": "v",
                  "showlegend": true,
                  "type": "scatter",
                  "x": [
                    -6.369028
                  ],
                  "xaxis": "x",
                  "y": [
                    34.888822
                  ],
                  "yaxis": "y"
                },
                {
                  "hovertemplate": "country=UA<br>latitude=%{x}<br>longitude=%{y}<extra></extra>",
                  "legendgroup": "UA",
                  "marker": {
                    "color": "#ab63fa",
                    "symbol": "circle"
                  },
                  "mode": "markers",
                  "name": "UA",
                  "orientation": "v",
                  "showlegend": true,
                  "type": "scatter",
                  "x": [
                    48.379433
                  ],
                  "xaxis": "x",
                  "y": [
                    31.16558
                  ],
                  "yaxis": "y"
                },
                {
                  "hovertemplate": "country=UG<br>latitude=%{x}<br>longitude=%{y}<extra></extra>",
                  "legendgroup": "UG",
                  "marker": {
                    "color": "#FFA15A",
                    "symbol": "circle"
                  },
                  "mode": "markers",
                  "name": "UG",
                  "orientation": "v",
                  "showlegend": true,
                  "type": "scatter",
                  "x": [
                    1.373333
                  ],
                  "xaxis": "x",
                  "y": [
                    32.290275
                  ],
                  "yaxis": "y"
                },
                {
                  "hovertemplate": "country=UM<br>latitude=%{x}<br>longitude=%{y}<extra></extra>",
                  "legendgroup": "UM",
                  "marker": {
                    "color": "#19d3f3",
                    "symbol": "circle"
                  },
                  "mode": "markers",
                  "name": "UM",
                  "orientation": "v",
                  "showlegend": true,
                  "type": "scatter",
                  "x": [
                    17
                  ],
                  "xaxis": "x",
                  "y": [
                    18
                  ],
                  "yaxis": "y"
                },
                {
                  "hovertemplate": "country=US<br>latitude=%{x}<br>longitude=%{y}<extra></extra>",
                  "legendgroup": "US",
                  "marker": {
                    "color": "#FF6692",
                    "symbol": "circle"
                  },
                  "mode": "markers",
                  "name": "US",
                  "orientation": "v",
                  "showlegend": true,
                  "type": "scatter",
                  "x": [
                    37.09024
                  ],
                  "xaxis": "x",
                  "y": [
                    -95.712891
                  ],
                  "yaxis": "y"
                },
                {
                  "hovertemplate": "country=UY<br>latitude=%{x}<br>longitude=%{y}<extra></extra>",
                  "legendgroup": "UY",
                  "marker": {
                    "color": "#B6E880",
                    "symbol": "circle"
                  },
                  "mode": "markers",
                  "name": "UY",
                  "orientation": "v",
                  "showlegend": true,
                  "type": "scatter",
                  "x": [
                    -32.522779
                  ],
                  "xaxis": "x",
                  "y": [
                    -55.765835
                  ],
                  "yaxis": "y"
                },
                {
                  "hovertemplate": "country=UZ<br>latitude=%{x}<br>longitude=%{y}<extra></extra>",
                  "legendgroup": "UZ",
                  "marker": {
                    "color": "#FF97FF",
                    "symbol": "circle"
                  },
                  "mode": "markers",
                  "name": "UZ",
                  "orientation": "v",
                  "showlegend": true,
                  "type": "scatter",
                  "x": [
                    41.377491
                  ],
                  "xaxis": "x",
                  "y": [
                    64.585262
                  ],
                  "yaxis": "y"
                },
                {
                  "hovertemplate": "country=VA<br>latitude=%{x}<br>longitude=%{y}<extra></extra>",
                  "legendgroup": "VA",
                  "marker": {
                    "color": "#FECB52",
                    "symbol": "circle"
                  },
                  "mode": "markers",
                  "name": "VA",
                  "orientation": "v",
                  "showlegend": true,
                  "type": "scatter",
                  "x": [
                    41.902916
                  ],
                  "xaxis": "x",
                  "y": [
                    12.453389
                  ],
                  "yaxis": "y"
                },
                {
                  "hovertemplate": "country=VC<br>latitude=%{x}<br>longitude=%{y}<extra></extra>",
                  "legendgroup": "VC",
                  "marker": {
                    "color": "#636efa",
                    "symbol": "circle"
                  },
                  "mode": "markers",
                  "name": "VC",
                  "orientation": "v",
                  "showlegend": true,
                  "type": "scatter",
                  "x": [
                    12.984305
                  ],
                  "xaxis": "x",
                  "y": [
                    -61.287228
                  ],
                  "yaxis": "y"
                },
                {
                  "hovertemplate": "country=VE<br>latitude=%{x}<br>longitude=%{y}<extra></extra>",
                  "legendgroup": "VE",
                  "marker": {
                    "color": "#EF553B",
                    "symbol": "circle"
                  },
                  "mode": "markers",
                  "name": "VE",
                  "orientation": "v",
                  "showlegend": true,
                  "type": "scatter",
                  "x": [
                    6.42375
                  ],
                  "xaxis": "x",
                  "y": [
                    -66.58973
                  ],
                  "yaxis": "y"
                },
                {
                  "hovertemplate": "country=VG<br>latitude=%{x}<br>longitude=%{y}<extra></extra>",
                  "legendgroup": "VG",
                  "marker": {
                    "color": "#00cc96",
                    "symbol": "circle"
                  },
                  "mode": "markers",
                  "name": "VG",
                  "orientation": "v",
                  "showlegend": true,
                  "type": "scatter",
                  "x": [
                    18.420695
                  ],
                  "xaxis": "x",
                  "y": [
                    -64.639968
                  ],
                  "yaxis": "y"
                },
                {
                  "hovertemplate": "country=VI<br>latitude=%{x}<br>longitude=%{y}<extra></extra>",
                  "legendgroup": "VI",
                  "marker": {
                    "color": "#ab63fa",
                    "symbol": "circle"
                  },
                  "mode": "markers",
                  "name": "VI",
                  "orientation": "v",
                  "showlegend": true,
                  "type": "scatter",
                  "x": [
                    18.335765
                  ],
                  "xaxis": "x",
                  "y": [
                    -64.896335
                  ],
                  "yaxis": "y"
                },
                {
                  "hovertemplate": "country=VN<br>latitude=%{x}<br>longitude=%{y}<extra></extra>",
                  "legendgroup": "VN",
                  "marker": {
                    "color": "#FFA15A",
                    "symbol": "circle"
                  },
                  "mode": "markers",
                  "name": "VN",
                  "orientation": "v",
                  "showlegend": true,
                  "type": "scatter",
                  "x": [
                    14.058324
                  ],
                  "xaxis": "x",
                  "y": [
                    108.277199
                  ],
                  "yaxis": "y"
                },
                {
                  "hovertemplate": "country=VU<br>latitude=%{x}<br>longitude=%{y}<extra></extra>",
                  "legendgroup": "VU",
                  "marker": {
                    "color": "#19d3f3",
                    "symbol": "circle"
                  },
                  "mode": "markers",
                  "name": "VU",
                  "orientation": "v",
                  "showlegend": true,
                  "type": "scatter",
                  "x": [
                    -15.376706
                  ],
                  "xaxis": "x",
                  "y": [
                    166.959158
                  ],
                  "yaxis": "y"
                },
                {
                  "hovertemplate": "country=WF<br>latitude=%{x}<br>longitude=%{y}<extra></extra>",
                  "legendgroup": "WF",
                  "marker": {
                    "color": "#FF6692",
                    "symbol": "circle"
                  },
                  "mode": "markers",
                  "name": "WF",
                  "orientation": "v",
                  "showlegend": true,
                  "type": "scatter",
                  "x": [
                    -13.768752
                  ],
                  "xaxis": "x",
                  "y": [
                    -177.156097
                  ],
                  "yaxis": "y"
                },
                {
                  "hovertemplate": "country=WS<br>latitude=%{x}<br>longitude=%{y}<extra></extra>",
                  "legendgroup": "WS",
                  "marker": {
                    "color": "#B6E880",
                    "symbol": "circle"
                  },
                  "mode": "markers",
                  "name": "WS",
                  "orientation": "v",
                  "showlegend": true,
                  "type": "scatter",
                  "x": [
                    -13.759029
                  ],
                  "xaxis": "x",
                  "y": [
                    -172.104629
                  ],
                  "yaxis": "y"
                },
                {
                  "hovertemplate": "country=XK<br>latitude=%{x}<br>longitude=%{y}<extra></extra>",
                  "legendgroup": "XK",
                  "marker": {
                    "color": "#FF97FF",
                    "symbol": "circle"
                  },
                  "mode": "markers",
                  "name": "XK",
                  "orientation": "v",
                  "showlegend": true,
                  "type": "scatter",
                  "x": [
                    42.602636
                  ],
                  "xaxis": "x",
                  "y": [
                    20.902977
                  ],
                  "yaxis": "y"
                },
                {
                  "hovertemplate": "country=YE<br>latitude=%{x}<br>longitude=%{y}<extra></extra>",
                  "legendgroup": "YE",
                  "marker": {
                    "color": "#FECB52",
                    "symbol": "circle"
                  },
                  "mode": "markers",
                  "name": "YE",
                  "orientation": "v",
                  "showlegend": true,
                  "type": "scatter",
                  "x": [
                    15.552727
                  ],
                  "xaxis": "x",
                  "y": [
                    48.516388
                  ],
                  "yaxis": "y"
                },
                {
                  "hovertemplate": "country=YT<br>latitude=%{x}<br>longitude=%{y}<extra></extra>",
                  "legendgroup": "YT",
                  "marker": {
                    "color": "#636efa",
                    "symbol": "circle"
                  },
                  "mode": "markers",
                  "name": "YT",
                  "orientation": "v",
                  "showlegend": true,
                  "type": "scatter",
                  "x": [
                    -12.8275
                  ],
                  "xaxis": "x",
                  "y": [
                    45.166244
                  ],
                  "yaxis": "y"
                },
                {
                  "hovertemplate": "country=ZA<br>latitude=%{x}<br>longitude=%{y}<extra></extra>",
                  "legendgroup": "ZA",
                  "marker": {
                    "color": "#EF553B",
                    "symbol": "circle"
                  },
                  "mode": "markers",
                  "name": "ZA",
                  "orientation": "v",
                  "showlegend": true,
                  "type": "scatter",
                  "x": [
                    -30.559482
                  ],
                  "xaxis": "x",
                  "y": [
                    22.937506
                  ],
                  "yaxis": "y"
                },
                {
                  "hovertemplate": "country=ZM<br>latitude=%{x}<br>longitude=%{y}<extra></extra>",
                  "legendgroup": "ZM",
                  "marker": {
                    "color": "#00cc96",
                    "symbol": "circle"
                  },
                  "mode": "markers",
                  "name": "ZM",
                  "orientation": "v",
                  "showlegend": true,
                  "type": "scatter",
                  "x": [
                    -13.133897
                  ],
                  "xaxis": "x",
                  "y": [
                    27.849332
                  ],
                  "yaxis": "y"
                },
                {
                  "hovertemplate": "country=ZW<br>latitude=%{x}<br>longitude=%{y}<extra></extra>",
                  "legendgroup": "ZW",
                  "marker": {
                    "color": "#ab63fa",
                    "symbol": "circle"
                  },
                  "mode": "markers",
                  "name": "ZW",
                  "orientation": "v",
                  "showlegend": true,
                  "type": "scatter",
                  "x": [
                    -19.015438
                  ],
                  "xaxis": "x",
                  "y": [
                    29.154857
                  ],
                  "yaxis": "y"
                }
              ],
              "layout": {
                "legend": {
                  "title": {
                    "text": "country"
                  },
                  "tracegroupgap": 0
                },
                "margin": {
                  "t": 60
                },
                "template": {
                  "data": {
                    "bar": [
                      {
                        "error_x": {
                          "color": "#2a3f5f"
                        },
                        "error_y": {
                          "color": "#2a3f5f"
                        },
                        "marker": {
                          "line": {
                            "color": "#E5ECF6",
                            "width": 0.5
                          },
                          "pattern": {
                            "fillmode": "overlay",
                            "size": 10,
                            "solidity": 0.2
                          }
                        },
                        "type": "bar"
                      }
                    ],
                    "barpolar": [
                      {
                        "marker": {
                          "line": {
                            "color": "#E5ECF6",
                            "width": 0.5
                          },
                          "pattern": {
                            "fillmode": "overlay",
                            "size": 10,
                            "solidity": 0.2
                          }
                        },
                        "type": "barpolar"
                      }
                    ],
                    "carpet": [
                      {
                        "aaxis": {
                          "endlinecolor": "#2a3f5f",
                          "gridcolor": "white",
                          "linecolor": "white",
                          "minorgridcolor": "white",
                          "startlinecolor": "#2a3f5f"
                        },
                        "baxis": {
                          "endlinecolor": "#2a3f5f",
                          "gridcolor": "white",
                          "linecolor": "white",
                          "minorgridcolor": "white",
                          "startlinecolor": "#2a3f5f"
                        },
                        "type": "carpet"
                      }
                    ],
                    "choropleth": [
                      {
                        "colorbar": {
                          "outlinewidth": 0,
                          "ticks": ""
                        },
                        "type": "choropleth"
                      }
                    ],
                    "contour": [
                      {
                        "colorbar": {
                          "outlinewidth": 0,
                          "ticks": ""
                        },
                        "colorscale": [
                          [
                            0,
                            "#0d0887"
                          ],
                          [
                            0.1111111111111111,
                            "#46039f"
                          ],
                          [
                            0.2222222222222222,
                            "#7201a8"
                          ],
                          [
                            0.3333333333333333,
                            "#9c179e"
                          ],
                          [
                            0.4444444444444444,
                            "#bd3786"
                          ],
                          [
                            0.5555555555555556,
                            "#d8576b"
                          ],
                          [
                            0.6666666666666666,
                            "#ed7953"
                          ],
                          [
                            0.7777777777777778,
                            "#fb9f3a"
                          ],
                          [
                            0.8888888888888888,
                            "#fdca26"
                          ],
                          [
                            1,
                            "#f0f921"
                          ]
                        ],
                        "type": "contour"
                      }
                    ],
                    "contourcarpet": [
                      {
                        "colorbar": {
                          "outlinewidth": 0,
                          "ticks": ""
                        },
                        "type": "contourcarpet"
                      }
                    ],
                    "heatmap": [
                      {
                        "colorbar": {
                          "outlinewidth": 0,
                          "ticks": ""
                        },
                        "colorscale": [
                          [
                            0,
                            "#0d0887"
                          ],
                          [
                            0.1111111111111111,
                            "#46039f"
                          ],
                          [
                            0.2222222222222222,
                            "#7201a8"
                          ],
                          [
                            0.3333333333333333,
                            "#9c179e"
                          ],
                          [
                            0.4444444444444444,
                            "#bd3786"
                          ],
                          [
                            0.5555555555555556,
                            "#d8576b"
                          ],
                          [
                            0.6666666666666666,
                            "#ed7953"
                          ],
                          [
                            0.7777777777777778,
                            "#fb9f3a"
                          ],
                          [
                            0.8888888888888888,
                            "#fdca26"
                          ],
                          [
                            1,
                            "#f0f921"
                          ]
                        ],
                        "type": "heatmap"
                      }
                    ],
                    "heatmapgl": [
                      {
                        "colorbar": {
                          "outlinewidth": 0,
                          "ticks": ""
                        },
                        "colorscale": [
                          [
                            0,
                            "#0d0887"
                          ],
                          [
                            0.1111111111111111,
                            "#46039f"
                          ],
                          [
                            0.2222222222222222,
                            "#7201a8"
                          ],
                          [
                            0.3333333333333333,
                            "#9c179e"
                          ],
                          [
                            0.4444444444444444,
                            "#bd3786"
                          ],
                          [
                            0.5555555555555556,
                            "#d8576b"
                          ],
                          [
                            0.6666666666666666,
                            "#ed7953"
                          ],
                          [
                            0.7777777777777778,
                            "#fb9f3a"
                          ],
                          [
                            0.8888888888888888,
                            "#fdca26"
                          ],
                          [
                            1,
                            "#f0f921"
                          ]
                        ],
                        "type": "heatmapgl"
                      }
                    ],
                    "histogram": [
                      {
                        "marker": {
                          "pattern": {
                            "fillmode": "overlay",
                            "size": 10,
                            "solidity": 0.2
                          }
                        },
                        "type": "histogram"
                      }
                    ],
                    "histogram2d": [
                      {
                        "colorbar": {
                          "outlinewidth": 0,
                          "ticks": ""
                        },
                        "colorscale": [
                          [
                            0,
                            "#0d0887"
                          ],
                          [
                            0.1111111111111111,
                            "#46039f"
                          ],
                          [
                            0.2222222222222222,
                            "#7201a8"
                          ],
                          [
                            0.3333333333333333,
                            "#9c179e"
                          ],
                          [
                            0.4444444444444444,
                            "#bd3786"
                          ],
                          [
                            0.5555555555555556,
                            "#d8576b"
                          ],
                          [
                            0.6666666666666666,
                            "#ed7953"
                          ],
                          [
                            0.7777777777777778,
                            "#fb9f3a"
                          ],
                          [
                            0.8888888888888888,
                            "#fdca26"
                          ],
                          [
                            1,
                            "#f0f921"
                          ]
                        ],
                        "type": "histogram2d"
                      }
                    ],
                    "histogram2dcontour": [
                      {
                        "colorbar": {
                          "outlinewidth": 0,
                          "ticks": ""
                        },
                        "colorscale": [
                          [
                            0,
                            "#0d0887"
                          ],
                          [
                            0.1111111111111111,
                            "#46039f"
                          ],
                          [
                            0.2222222222222222,
                            "#7201a8"
                          ],
                          [
                            0.3333333333333333,
                            "#9c179e"
                          ],
                          [
                            0.4444444444444444,
                            "#bd3786"
                          ],
                          [
                            0.5555555555555556,
                            "#d8576b"
                          ],
                          [
                            0.6666666666666666,
                            "#ed7953"
                          ],
                          [
                            0.7777777777777778,
                            "#fb9f3a"
                          ],
                          [
                            0.8888888888888888,
                            "#fdca26"
                          ],
                          [
                            1,
                            "#f0f921"
                          ]
                        ],
                        "type": "histogram2dcontour"
                      }
                    ],
                    "mesh3d": [
                      {
                        "colorbar": {
                          "outlinewidth": 0,
                          "ticks": ""
                        },
                        "type": "mesh3d"
                      }
                    ],
                    "parcoords": [
                      {
                        "line": {
                          "colorbar": {
                            "outlinewidth": 0,
                            "ticks": ""
                          }
                        },
                        "type": "parcoords"
                      }
                    ],
                    "pie": [
                      {
                        "automargin": true,
                        "type": "pie"
                      }
                    ],
                    "scatter": [
                      {
                        "fillpattern": {
                          "fillmode": "overlay",
                          "size": 10,
                          "solidity": 0.2
                        },
                        "type": "scatter"
                      }
                    ],
                    "scatter3d": [
                      {
                        "line": {
                          "colorbar": {
                            "outlinewidth": 0,
                            "ticks": ""
                          }
                        },
                        "marker": {
                          "colorbar": {
                            "outlinewidth": 0,
                            "ticks": ""
                          }
                        },
                        "type": "scatter3d"
                      }
                    ],
                    "scattercarpet": [
                      {
                        "marker": {
                          "colorbar": {
                            "outlinewidth": 0,
                            "ticks": ""
                          }
                        },
                        "type": "scattercarpet"
                      }
                    ],
                    "scattergeo": [
                      {
                        "marker": {
                          "colorbar": {
                            "outlinewidth": 0,
                            "ticks": ""
                          }
                        },
                        "type": "scattergeo"
                      }
                    ],
                    "scattergl": [
                      {
                        "marker": {
                          "colorbar": {
                            "outlinewidth": 0,
                            "ticks": ""
                          }
                        },
                        "type": "scattergl"
                      }
                    ],
                    "scattermapbox": [
                      {
                        "marker": {
                          "colorbar": {
                            "outlinewidth": 0,
                            "ticks": ""
                          }
                        },
                        "type": "scattermapbox"
                      }
                    ],
                    "scatterpolar": [
                      {
                        "marker": {
                          "colorbar": {
                            "outlinewidth": 0,
                            "ticks": ""
                          }
                        },
                        "type": "scatterpolar"
                      }
                    ],
                    "scatterpolargl": [
                      {
                        "marker": {
                          "colorbar": {
                            "outlinewidth": 0,
                            "ticks": ""
                          }
                        },
                        "type": "scatterpolargl"
                      }
                    ],
                    "scatterternary": [
                      {
                        "marker": {
                          "colorbar": {
                            "outlinewidth": 0,
                            "ticks": ""
                          }
                        },
                        "type": "scatterternary"
                      }
                    ],
                    "surface": [
                      {
                        "colorbar": {
                          "outlinewidth": 0,
                          "ticks": ""
                        },
                        "colorscale": [
                          [
                            0,
                            "#0d0887"
                          ],
                          [
                            0.1111111111111111,
                            "#46039f"
                          ],
                          [
                            0.2222222222222222,
                            "#7201a8"
                          ],
                          [
                            0.3333333333333333,
                            "#9c179e"
                          ],
                          [
                            0.4444444444444444,
                            "#bd3786"
                          ],
                          [
                            0.5555555555555556,
                            "#d8576b"
                          ],
                          [
                            0.6666666666666666,
                            "#ed7953"
                          ],
                          [
                            0.7777777777777778,
                            "#fb9f3a"
                          ],
                          [
                            0.8888888888888888,
                            "#fdca26"
                          ],
                          [
                            1,
                            "#f0f921"
                          ]
                        ],
                        "type": "surface"
                      }
                    ],
                    "table": [
                      {
                        "cells": {
                          "fill": {
                            "color": "#EBF0F8"
                          },
                          "line": {
                            "color": "white"
                          }
                        },
                        "header": {
                          "fill": {
                            "color": "#C8D4E3"
                          },
                          "line": {
                            "color": "white"
                          }
                        },
                        "type": "table"
                      }
                    ]
                  },
                  "layout": {
                    "annotationdefaults": {
                      "arrowcolor": "#2a3f5f",
                      "arrowhead": 0,
                      "arrowwidth": 1
                    },
                    "autotypenumbers": "strict",
                    "coloraxis": {
                      "colorbar": {
                        "outlinewidth": 0,
                        "ticks": ""
                      }
                    },
                    "colorscale": {
                      "diverging": [
                        [
                          0,
                          "#8e0152"
                        ],
                        [
                          0.1,
                          "#c51b7d"
                        ],
                        [
                          0.2,
                          "#de77ae"
                        ],
                        [
                          0.3,
                          "#f1b6da"
                        ],
                        [
                          0.4,
                          "#fde0ef"
                        ],
                        [
                          0.5,
                          "#f7f7f7"
                        ],
                        [
                          0.6,
                          "#e6f5d0"
                        ],
                        [
                          0.7,
                          "#b8e186"
                        ],
                        [
                          0.8,
                          "#7fbc41"
                        ],
                        [
                          0.9,
                          "#4d9221"
                        ],
                        [
                          1,
                          "#276419"
                        ]
                      ],
                      "sequential": [
                        [
                          0,
                          "#0d0887"
                        ],
                        [
                          0.1111111111111111,
                          "#46039f"
                        ],
                        [
                          0.2222222222222222,
                          "#7201a8"
                        ],
                        [
                          0.3333333333333333,
                          "#9c179e"
                        ],
                        [
                          0.4444444444444444,
                          "#bd3786"
                        ],
                        [
                          0.5555555555555556,
                          "#d8576b"
                        ],
                        [
                          0.6666666666666666,
                          "#ed7953"
                        ],
                        [
                          0.7777777777777778,
                          "#fb9f3a"
                        ],
                        [
                          0.8888888888888888,
                          "#fdca26"
                        ],
                        [
                          1,
                          "#f0f921"
                        ]
                      ],
                      "sequentialminus": [
                        [
                          0,
                          "#0d0887"
                        ],
                        [
                          0.1111111111111111,
                          "#46039f"
                        ],
                        [
                          0.2222222222222222,
                          "#7201a8"
                        ],
                        [
                          0.3333333333333333,
                          "#9c179e"
                        ],
                        [
                          0.4444444444444444,
                          "#bd3786"
                        ],
                        [
                          0.5555555555555556,
                          "#d8576b"
                        ],
                        [
                          0.6666666666666666,
                          "#ed7953"
                        ],
                        [
                          0.7777777777777778,
                          "#fb9f3a"
                        ],
                        [
                          0.8888888888888888,
                          "#fdca26"
                        ],
                        [
                          1,
                          "#f0f921"
                        ]
                      ]
                    },
                    "colorway": [
                      "#636efa",
                      "#EF553B",
                      "#00cc96",
                      "#ab63fa",
                      "#FFA15A",
                      "#19d3f3",
                      "#FF6692",
                      "#B6E880",
                      "#FF97FF",
                      "#FECB52"
                    ],
                    "font": {
                      "color": "#2a3f5f"
                    },
                    "geo": {
                      "bgcolor": "white",
                      "lakecolor": "white",
                      "landcolor": "#E5ECF6",
                      "showlakes": true,
                      "showland": true,
                      "subunitcolor": "white"
                    },
                    "hoverlabel": {
                      "align": "left"
                    },
                    "hovermode": "closest",
                    "mapbox": {
                      "style": "light"
                    },
                    "paper_bgcolor": "white",
                    "plot_bgcolor": "#E5ECF6",
                    "polar": {
                      "angularaxis": {
                        "gridcolor": "white",
                        "linecolor": "white",
                        "ticks": ""
                      },
                      "bgcolor": "#E5ECF6",
                      "radialaxis": {
                        "gridcolor": "white",
                        "linecolor": "white",
                        "ticks": ""
                      }
                    },
                    "scene": {
                      "xaxis": {
                        "backgroundcolor": "#E5ECF6",
                        "gridcolor": "white",
                        "gridwidth": 2,
                        "linecolor": "white",
                        "showbackground": true,
                        "ticks": "",
                        "zerolinecolor": "white"
                      },
                      "yaxis": {
                        "backgroundcolor": "#E5ECF6",
                        "gridcolor": "white",
                        "gridwidth": 2,
                        "linecolor": "white",
                        "showbackground": true,
                        "ticks": "",
                        "zerolinecolor": "white"
                      },
                      "zaxis": {
                        "backgroundcolor": "#E5ECF6",
                        "gridcolor": "white",
                        "gridwidth": 2,
                        "linecolor": "white",
                        "showbackground": true,
                        "ticks": "",
                        "zerolinecolor": "white"
                      }
                    },
                    "shapedefaults": {
                      "line": {
                        "color": "#2a3f5f"
                      }
                    },
                    "ternary": {
                      "aaxis": {
                        "gridcolor": "white",
                        "linecolor": "white",
                        "ticks": ""
                      },
                      "baxis": {
                        "gridcolor": "white",
                        "linecolor": "white",
                        "ticks": ""
                      },
                      "bgcolor": "#E5ECF6",
                      "caxis": {
                        "gridcolor": "white",
                        "linecolor": "white",
                        "ticks": ""
                      }
                    },
                    "title": {
                      "x": 0.05
                    },
                    "xaxis": {
                      "automargin": true,
                      "gridcolor": "white",
                      "linecolor": "white",
                      "ticks": "",
                      "title": {
                        "standoff": 15
                      },
                      "zerolinecolor": "white",
                      "zerolinewidth": 2
                    },
                    "yaxis": {
                      "automargin": true,
                      "gridcolor": "white",
                      "linecolor": "white",
                      "ticks": "",
                      "title": {
                        "standoff": 15
                      },
                      "zerolinecolor": "white",
                      "zerolinewidth": 2
                    }
                  }
                },
                "xaxis": {
                  "anchor": "y",
                  "domain": [
                    0,
                    1
                  ],
                  "title": {
                    "text": "latitude"
                  }
                },
                "yaxis": {
                  "anchor": "x",
                  "domain": [
                    0,
                    1
                  ],
                  "title": {
                    "text": "longitude"
                  }
                }
              }
            }
          },
          "metadata": {},
          "output_type": "display_data"
        }
      ],
      "source": [
        "#cau 1\n",
        "import plotly.express as px \n",
        "\n",
        "pig=px.scatter(df,x = 'latitude', y = 'longitude', color = 'country')\n",
        "pig.show()"
      ]
    },
    {
      "cell_type": "code",
      "execution_count": 9,
      "metadata": {
        "id": "xWBu-BFpRT9q"
      },
      "outputs": [],
      "source": [
        "df=numberic(df)\n",
        "del df['country']\n"
      ]
    },
    {
      "cell_type": "code",
      "execution_count": 10,
      "metadata": {
        "colab": {
          "base_uri": "https://localhost:8080/",
          "height": 656
        },
        "id": "nmmqVuNkQAiM",
        "outputId": "def69cb6-d942-4b1e-f2c3-42f93acb4469"
      },
      "outputs": [
        {
          "data": {
            "image/png": "[encoded data removed]",
            "text/plain": [
              "<Figure size 1440x864 with 1 Axes>"
            ]
          },
          "metadata": {
            "needs_background": "light"
          },
          "output_type": "display_data"
        }
      ],
      "source": [
        "#cau2\n",
        "from sklearn.cluster import DBSCAN\n",
        "from sklearn import metrics\n",
        "data_arr = np.array(df)\n",
        "plt.figure(figsize=(20,12))\n",
        "plt.scatter(\n",
        "    data_arr[:, 0], data_arr[:, 1],\n",
        "    c=df.iloc[:,2], marker='o',\n",
        "    edgecolor='black', s=200\n",
        ")\n",
        "plt.xlabel(\"X\", fontsize=20)\n",
        "plt.ylabel(\"Y\", fontsize=20)\n",
        "plt.title(\"Country\", fontsize=40)\n",
        "plt.show()\n"
      ]
    },
    {
      "cell_type": "code",
      "execution_count": 11,
      "metadata": {
        "id": "-lDYMqHhQTY9"
      },
      "outputs": [],
      "source": [
        "#kmean\n",
        "from sklearn.cluster import KMeans\n",
        "kmeans = KMeans(n_clusters = 4)\n",
        "y_pred = kmeans.fit_predict(df.iloc[:,[0,1]])\n",
        "\n"
      ]
    },
    {
      "cell_type": "code",
      "execution_count": 12,
      "metadata": {
        "colab": {
          "base_uri": "https://localhost:8080/",
          "height": 656
        },
        "id": "4GkHPE46TSAl",
        "outputId": "b94d774e-0923-4dd8-ebf5-715a1cdbcd3b"
      },
      "outputs": [
        {
          "data": {
            "image/png": "[encoded data removed]",
            "text/plain": [
              "<Figure size 1440x864 with 1 Axes>"
            ]
          },
          "metadata": {
            "needs_background": "light"
          },
          "output_type": "display_data"
        }
      ],
      "source": [
        "# Show kết quả phân cụm\n",
        "plt.figure(figsize=(20,12))\n",
        "plt.scatter(\n",
        "    data_arr[:, 0], data_arr[:, 1],\n",
        "    c=y_pred, marker='o',\n",
        "    edgecolor='black', s=200\n",
        ")\n",
        "plt.xlabel(\"X\", fontsize=20)\n",
        "plt.ylabel(\"Y\", fontsize=20)\n",
        "plt.title(\" KMeans\", fontsize=40)\n",
        "plt.show()"
      ]
    },
    {
      "cell_type": "code",
      "execution_count": 13,
      "metadata": {
        "colab": {
          "base_uri": "https://localhost:8080/",
          "height": 643
        },
        "id": "McbCJ7EBT5tt",
        "outputId": "378ab018-d713-46f8-c595-f82599215bcb"
      },
      "outputs": [
        {
          "name": "stdout",
          "output_type": "stream",
          "text": [
            "0.246855178843329\n"
          ]
        },
        {
          "data": {
            "image/png": "[encoded data removed]",
            "text/plain": [
              "<Figure size 1440x864 with 1 Axes>"
            ]
          },
          "metadata": {
            "needs_background": "light"
          },
          "output_type": "display_data"
        }
      ],
      "source": [
        "print(metrics.silhouette_score(df,y_pred))\n",
        "from sklearn.metrics.cluster import silhouette_score\n",
        "k_values = []\n",
        "silhouette_score_values = []\n",
        "\n",
        "for i in range(2,10):\n",
        "  kmeans = KMeans(n_clusters=i)\n",
        "  y_pred = kmeans.fit_predict(df)\n",
        "  k_values.append(i)\n",
        "  silhouette_score_values.append(metrics.silhouette_score(df, y_pred))\n",
        "result = pd.DataFrame({'k': k_values, 'silhouette score': silhouette_score_values})\n",
        "result.plot.line(x='k', y = 'silhouette score', figsize=(20,12))\n",
        "plt.show()"
      ]
    },
    {
      "cell_type": "code",
      "execution_count": 14,
      "metadata": {
        "id": "ZgXlV_THUhsz"
      },
      "outputs": [],
      "source": [
        "#DBSCAN\n",
        "import ipywidgets as widgets"
      ]
    },
    {
      "cell_type": "code",
      "execution_count": 15,
      "metadata": {
        "id": "MVke439rWZau"
      },
      "outputs": [],
      "source": [
        "db = DBSCAN(eps=35, min_samples=5).fit(df)\n",
        "y_pred_DB = db.fit_predict(df)"
      ]
    },
    {
      "cell_type": "code",
      "execution_count": 16,
      "metadata": {
        "colab": {
          "base_uri": "https://localhost:8080/",
          "height": 656
        },
        "id": "DCshMAASWdrX",
        "outputId": "d1d4bdf2-64cc-4dca-f280-2e8041df4e4e"
      },
      "outputs": [
        {
          "data": {
            "image/png": "[encoded data removed]",
            "text/plain": [
              "<Figure size 1440x864 with 1 Axes>"
            ]
          },
          "metadata": {
            "needs_background": "light"
          },
          "output_type": "display_data"
        }
      ],
      "source": [
        "plt.figure(figsize=(20,12))\n",
        "plt.scatter(\n",
        "    data_arr[:, 0], data_arr[:, 1],\n",
        "    c=y_pred_DB, marker='o',\n",
        "    edgecolor='black', s=200\n",
        ")\n",
        "plt.xlabel(\"X\",fontsize=20)\n",
        "plt.ylabel(\"Y\",fontsize=20)\n",
        "plt.title(\"DBSCAN\", fontsize=40)\n",
        "plt.show()"
      ]
    },
    {
      "cell_type": "code",
      "execution_count": 20,
      "metadata": {
        "id": "QRF7S1ok2bzn"
      },
      "outputs": [],
      "source": [
        "# DPC\n",
        "from dpca import DensityPeakCluster\n",
        "dpca = DensityPeakCluster(density_threshold=8, distance_threshold=5, anormal=False)\n",
        "dpca.fit(df.iloc[:,[0,1]])"
      ]
    },
    {
      "cell_type": "code",
      "execution_count": 21,
      "metadata": {
        "id": "wGhvurAt2oc3"
      },
      "outputs": [],
      "source": [
        "rho = dpca.local_density()\n",
        "delta, nneigh = dpca.min_neighbor_and_distance()\n",
        "labels, center = dpca.collapse()\n"
      ]
    },
    {
      "cell_type": "code",
      "execution_count": 23,
      "metadata": {
        "colab": {
          "base_uri": "https://localhost:8080/",
          "height": 664
        },
        "id": "SUD-Ahxq6jKE",
        "outputId": "c9a626a2-be75-4682-f68b-a3e6b9edf3cf"
      },
      "outputs": [
        {
          "data": {
            "image/png": "[encoded data removed]",
            "text/plain": [
              "<Figure size 1440x864 with 1 Axes>"
            ]
          },
          "metadata": {
            "needs_background": "light"
          },
          "output_type": "display_data"
        }
      ],
      "source": [
        "plt.figure(figsize=(20,12))\n",
        "plt.scatter(\n",
        "    rho,delta,\n",
        "    c=labels, marker='o',\n",
        "    edgecolor='black', s=200\n",
        ")\n",
        "plt.xlabel(\"Density\", fontsize=20)\n",
        "plt.ylabel(\"Distance\", fontsize=20)\n",
        "plt.title(\" Decision graph\", fontsize=40)\n",
        "plt.show()"
      ]
    },
    {
      "cell_type": "code",
      "execution_count": 24,
      "metadata": {
        "colab": {
          "base_uri": "https://localhost:8080/",
          "height": 656
        },
        "id": "No72GyaX6oRM",
        "outputId": "71ce2058-f64b-4afb-b9aa-6d600faeae31"
      },
      "outputs": [
        {
          "data": {
            "image/png": "[encoded data removed]",
            "text/plain": [
              "<Figure size 1440x864 with 1 Axes>"
            ]
          },
          "metadata": {
            "needs_background": "light"
          },
          "output_type": "display_data"
        }
      ],
      "source": [
        "plt.figure(figsize=(20,12))\n",
        "plt.scatter(\n",
        "    data_arr[:,0],data_arr[:,1],\n",
        "    c=labels, marker='o',\n",
        "    edgecolor='black', s=200\n",
        ")\n",
        "plt.xlabel(\"X\", fontsize=20)\n",
        "plt.ylabel(\"Y\", fontsize=20)\n",
        "plt.title(\" DPC\", fontsize=40)\n",
        "plt.show()"
      ]
    },
    {
      "cell_type": "code",
      "execution_count": null,
      "metadata": {
        "id": "VKDD677y6zHt"
      },
      "outputs": [],
      "source": []
    }
  ],
  "metadata": {
    "colab": {
      "provenance": []
    },
    "kernelspec": {
      "display_name": "Python 3",
      "name": "python3"
    },
    "language_info": {
      "codemirror_mode": {
        "name": "ipython",
        "version": 3
      },
      "file_extension": ".py",
      "mimetype": "text/x-python",
      "name": "python",
      "nbconvert_exporter": "python",
      "pygments_lexer": "ipython3",
      "version": "3.9.13"
    }
  },
  "nbformat": 4,
  "nbformat_minor": 0
}
